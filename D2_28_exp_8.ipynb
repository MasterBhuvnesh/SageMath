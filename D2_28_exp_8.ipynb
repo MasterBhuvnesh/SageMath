{
 "cells": [
  {
   "cell_type": "markdown",
   "metadata": {},
   "source": [
    "# Shri Ramdeobaba College of engineering and Management\n",
    "### Name:Bhuvnesh Verma\n",
    "### Rol no.:D2 28\n",
    "### Experiment 8:Cryptography\n",
    "### Aim:To learn Cryptography with SageMath\n",
    "\n"
   ]
  },
  {
   "cell_type": "code",
   "execution_count": 1,
   "metadata": {},
   "outputs": [],
   "source": [
    "def add_mod_1(a,b,n):\n",
    "    result = (a+b) % n\n",
    "    return result"
   ]
  },
  {
   "cell_type": "code",
   "execution_count": 2,
   "metadata": {},
   "outputs": [
    {
     "data": {
      "text/plain": [
       "0"
      ]
     },
     "execution_count": 2,
     "metadata": {},
     "output_type": "execute_result"
    }
   ],
   "source": [
    "add_mod_1(1,2,3)"
   ]
  },
  {
   "cell_type": "code",
   "execution_count": 3,
   "metadata": {},
   "outputs": [],
   "source": [
    "def add_mod_1(a,b,n):\n",
    "    result = mod(a+b,n)\n",
    "    return result"
   ]
  },
  {
   "cell_type": "code",
   "execution_count": 4,
   "metadata": {},
   "outputs": [
    {
     "data": {
      "text/plain": [
       "1"
      ]
     },
     "execution_count": 4,
     "metadata": {},
     "output_type": "execute_result"
    }
   ],
   "source": [
    "add_mod_1(2,8,3)"
   ]
  },
  {
   "cell_type": "code",
   "execution_count": 5,
   "metadata": {},
   "outputs": [],
   "source": [
    "def multi_mod_1(a,b,n):\n",
    "    result = mod(a*b,n)\n",
    "    return result"
   ]
  },
  {
   "cell_type": "code",
   "execution_count": 6,
   "metadata": {},
   "outputs": [
    {
     "data": {
      "text/plain": [
       "1"
      ]
     },
     "execution_count": 6,
     "metadata": {},
     "output_type": "execute_result"
    }
   ],
   "source": [
    "multi_mod_1(2,8,3)"
   ]
  },
  {
   "cell_type": "markdown",
   "metadata": {},
   "source": [
    "##### Solution of Linear congruence $ ax=b(mod n) $"
   ]
  },
  {
   "cell_type": "code",
   "execution_count": 9,
   "metadata": {},
   "outputs": [
    {
     "data": {
      "text/plain": [
       "[(9,), (19,), (29,)]"
      ]
     },
     "execution_count": 9,
     "metadata": {},
     "output_type": "execute_result"
    }
   ],
   "source": [
    "var('x')\n",
    "a=9\n",
    "b=21\n",
    "n=30\n",
    "solve_mod([a*x == b],n)"
   ]
  },
  {
   "cell_type": "code",
   "execution_count": 8,
   "metadata": {
    "scrolled": true
   },
   "outputs": [
    {
     "data": {
      "text/plain": [
       "[(3,)]"
      ]
     },
     "execution_count": 8,
     "metadata": {},
     "output_type": "execute_result"
    }
   ],
   "source": [
    "var('x')\n",
    "a=13\n",
    "b=17\n",
    "n=11\n",
    "solve_mod([a*x == b],n)"
   ]
  },
  {
   "cell_type": "markdown",
   "metadata": {},
   "source": [
    "##### Solution of congurence equation \n",
    "$ x^e=c(mod  N) $\n",
    "##### The RSA ( Rivest  Shamir Adleman ) public key cryptosystem rely on the difficult of solving this equation in which e,c and n are known and x is unknown .\n",
    "##### e is private key\n",
    "##### c is public key "
   ]
  },
  {
   "cell_type": "code",
   "execution_count": 14,
   "metadata": {},
   "outputs": [
    {
     "data": {
      "text/html": [
       "<html><script type=\"math/tex; mode=display\">\\newcommand{\\Bold}[1]{\\mathbf{#1}}\\mathrm{True}</script></html>"
      ],
      "text/latex": [
       "\\begin{math}\n",
       "\\newcommand{\\Bold}[1]{\\mathbf{#1}}\\mathrm{True}\n",
       "\\end{math}"
      ],
      "text/plain": [
       "True"
      ]
     },
     "metadata": {},
     "output_type": "display_data"
    },
    {
     "data": {
      "text/html": [
       "<html><script type=\"math/tex; mode=display\">\\newcommand{\\Bold}[1]{\\mathbf{#1}}\\mathrm{True}</script></html>"
      ],
      "text/latex": [
       "\\begin{math}\n",
       "\\newcommand{\\Bold}[1]{\\mathbf{#1}}\\mathrm{True}\n",
       "\\end{math}"
      ],
      "text/plain": [
       "True"
      ]
     },
     "metadata": {},
     "output_type": "display_data"
    },
    {
     "data": {
      "text/html": [
       "<html><script type=\"math/tex; mode=display\">\\newcommand{\\Bold}[1]{\\mathbf{#1}}4951760154835678088235319297</script></html>"
      ],
      "text/latex": [
       "\\begin{math}\n",
       "\\newcommand{\\Bold}[1]{\\mathbf{#1}}4951760154835678088235319297\n",
       "\\end{math}"
      ],
      "text/plain": [
       "4951760154835678088235319297"
      ]
     },
     "metadata": {},
     "output_type": "display_data"
    }
   ],
   "source": [
    "# var('x')\n",
    "p=(2^31)-1\n",
    "q=(2^61)-1\n",
    "show(p.is_prime())\n",
    "show(q.is_prime())\n",
    "n=p*q\n",
    "show(n)\n"
   ]
  },
  {
   "cell_type": "code",
   "execution_count": 18,
   "metadata": {},
   "outputs": [
    {
     "name": "stdout",
     "output_type": "stream",
     "text": [
      "Find e which is Coprime= 4951760152529835076874141700\n",
      "public_key= 3004573709646568968568925807\n"
     ]
    }
   ],
   "source": [
    "# Compute a public key (Choose encryption exponent)\n",
    "phi = (p-1)*(q-1)\n",
    "print(\"Find e which is Coprime=\",phi)\n",
    "# pickup incryption key\n",
    "e = ZZ.random_element(phi)\n",
    "\n",
    "while gcd(e,phi)!=1:\n",
    "    e = ZZ.random_element(phi)\n",
    "print('public_key=',e) # e is the public key\n",
    "  "
   ]
  },
  {
   "cell_type": "code",
   "execution_count": 19,
   "metadata": {},
   "outputs": [],
   "source": [
    "d=inverse_mod(e,phi)"
   ]
  },
  {
   "cell_type": "code",
   "execution_count": 20,
   "metadata": {},
   "outputs": [
    {
     "data": {
      "text/html": [
       "<html><script type=\"math/tex; mode=display\">\\newcommand{\\Bold}[1]{\\mathbf{#1}}761314331432474127055996043</script></html>"
      ],
      "text/latex": [
       "\\begin{math}\n",
       "\\newcommand{\\Bold}[1]{\\mathbf{#1}}761314331432474127055996043\n",
       "\\end{math}"
      ],
      "text/plain": [
       "761314331432474127055996043"
      ]
     },
     "metadata": {},
     "output_type": "display_data"
    }
   ],
   "source": [
    "show(d)"
   ]
  },
  {
   "cell_type": "code",
   "execution_count": 24,
   "metadata": {},
   "outputs": [
    {
     "name": "stdout",
     "output_type": "stream",
     "text": [
      "m_bytes= [66, 72, 85, 86, 78, 69, 83, 72, 32, 86, 69, 82, 77, 65]\n",
      "ciphertext =  [3473769665534587307085363141, 3300808757491220107205476908, 4563522475046336711916657123, 2020164935680416754347690751, 3180077909577333610783151719, 3754819999976711341959424215, 2952515152353657606387621493, 3300808757491220107205476908, 3626777458843887523594240, 2020164935680416754347690751, 3754819999976711341959424215, 3357347843127377013823946638, 2514434424511654319017870689, 3651234977884451973389486904]\n"
     ]
    }
   ],
   "source": [
    "# Use a public key\n",
    "m = 'BHUVNESH VERMA' # message\n",
    "m_bytes = [ord(char) for char in m] # assigning a number to\n",
    "print('m_bytes=',m_bytes)\n",
    "c=[power_mod(char,e,n) for char in m_bytes]\n",
    "print('ciphertext = ',c)# ciphertext"
   ]
  },
  {
   "cell_type": "code",
   "execution_count": 23,
   "metadata": {},
   "outputs": [
    {
     "data": {
      "text/html": [
       "<html><script type=\"math/tex; mode=display\">\\newcommand{\\Bold}[1]{\\mathbf{#1}}\\verb|B|</script></html>"
      ],
      "text/latex": [
       "\\begin{math}\n",
       "\\newcommand{\\Bold}[1]{\\mathbf{#1}}\\verb|B|\n",
       "\\end{math}"
      ],
      "text/plain": [
       "'B'"
      ]
     },
     "metadata": {},
     "output_type": "display_data"
    }
   ],
   "source": [
    "show(chr(66))"
   ]
  },
  {
   "cell_type": "code",
   "execution_count": 26,
   "metadata": {},
   "outputs": [
    {
     "data": {
      "text/plain": [
       "[(761314331432474127055996043,)]"
      ]
     },
     "execution_count": 26,
     "metadata": {},
     "output_type": "execute_result"
    }
   ],
   "source": [
    "solve_mod([e*x==1],phi)"
   ]
  },
  {
   "cell_type": "code",
   "execution_count": 27,
   "metadata": {},
   "outputs": [
    {
     "data": {
      "text/plain": [
       "761314331432474127055996043"
      ]
     },
     "execution_count": 27,
     "metadata": {},
     "output_type": "execute_result"
    }
   ],
   "source": [
    "d = inverse_mod(e,phi)\n",
    "d"
   ]
  },
  {
   "cell_type": "code",
   "execution_count": 28,
   "metadata": {},
   "outputs": [
    {
     "name": "stdout",
     "output_type": "stream",
     "text": [
      "decrypted_bytes= [66, 72, 85, 86, 78, 69, 83, 72, 32, 86, 69, 82, 77, 65]\n",
      "original message =  BHUVNESH VERMA\n"
     ]
    }
   ],
   "source": [
    "decrypted_bytes = [power_mod(char,d,n) for char in c]\n",
    "print('decrypted_bytes=',decrypted_bytes)\n",
    "decrypted_message = ''.join([chr(char) for char in decrypted_bytes])\n",
    "print('original message = ',decrypted_message)"
   ]
  },
  {
   "cell_type": "code",
   "execution_count": 29,
   "metadata": {},
   "outputs": [
    {
     "data": {
      "text/html": [
       "<html><script type=\"math/tex; mode=display\">\\newcommand{\\Bold}[1]{\\mathbf{#1}}\\mathrm{True}</script></html>"
      ],
      "text/latex": [
       "\\begin{math}\n",
       "\\newcommand{\\Bold}[1]{\\mathbf{#1}}\\mathrm{True}\n",
       "\\end{math}"
      ],
      "text/plain": [
       "True"
      ]
     },
     "metadata": {},
     "output_type": "display_data"
    },
    {
     "data": {
      "text/html": [
       "<html><script type=\"math/tex; mode=display\">\\newcommand{\\Bold}[1]{\\mathbf{#1}}\\mathrm{True}</script></html>"
      ],
      "text/latex": [
       "\\begin{math}\n",
       "\\newcommand{\\Bold}[1]{\\mathbf{#1}}\\mathrm{True}\n",
       "\\end{math}"
      ],
      "text/plain": [
       "True"
      ]
     },
     "metadata": {},
     "output_type": "display_data"
    },
    {
     "data": {
      "text/html": [
       "<html><script type=\"math/tex; mode=display\">\\newcommand{\\Bold}[1]{\\mathbf{#1}}4951760154835678088235319297</script></html>"
      ],
      "text/latex": [
       "\\begin{math}\n",
       "\\newcommand{\\Bold}[1]{\\mathbf{#1}}4951760154835678088235319297\n",
       "\\end{math}"
      ],
      "text/plain": [
       "4951760154835678088235319297"
      ]
     },
     "metadata": {},
     "output_type": "display_data"
    },
    {
     "name": "stdout",
     "output_type": "stream",
     "text": [
      "Coprimes = 4951760152529835076874141700\n",
      "public_key = 2047750910855366931559295953\n",
      "public_key = 2221000694091887747441410436\n",
      "public_key = 3647264839473284307968599449\n",
      "public_key = 1960764466219412804474210528\n",
      "public_key = 2228256305955442987113137718\n",
      "public_key = 4639241314007676660366825081\n",
      "public_key = 380364791729546451461255034\n",
      "public_key = 4113183400633236588415340693\n",
      "m_bytes = [72, 69, 76, 76, 79, 32, 87, 79, 82, 76, 68]\n",
      "ciphertext =  [4150931769959658127672631406, 620495298999699875076764994, 3180153335715156842540064353, 3180153335715156842540064353, 4396936930100796421355135552, 32768, 2798552091590099811509548853, 4396936930100796421355135552, 2947393568236160715688065247, 3180153335715156842540064353, 2682480813894100842997580660]\n",
      "decrypted_bytes = [72, 69, 76, 76, 79, 32, 87, 79, 82, 76, 68]\n",
      "Original Message = HELLO WORLD\n"
     ]
    }
   ],
   "source": [
    "p=(2^(31))-1\n",
    "show(p.is_prime())\n",
    "q=(2^(61))-1\n",
    "show(q.is_prime())\n",
    "n=p*q\n",
    "show(n)\n",
    "phi = (p-1)*(q-1) # no. of coprimes to n\n",
    "print('Coprimes =', phi)\n",
    "# pickup incription key\n",
    "e = ZZ.random_element(phi)\n",
    "while gcd(e,phi) != 1:\n",
    "    e = ZZ.random_element(phi)\n",
    "    print('public_key =', e) # e is the public key\n",
    "e\n",
    "d = inverse_mod(e,phi)\n",
    "m = 'HELLO WORLD' # message\n",
    "m_bytes = [ord(char) for char in m] #assigning a number to each letter (bit) in m (message)\n",
    "print('m_bytes =', m_bytes)\n",
    "c = [power_mod(char, e, n) for char in m_bytes]\n",
    "print('ciphertext = ', c) # ciphertext\n",
    "decrypted_bytes = [power_mod(char, d, n) for char in c]\n",
    "print('decrypted_bytes =', decrypted_bytes)\n",
    "decrypted_message = ''.join([chr(char) for char in decrypted_bytes])\n",
    "print('Original Message =', decrypted_message)"
   ]
  },
  {
   "cell_type": "code",
   "execution_count": null,
   "metadata": {},
   "outputs": [],
   "source": []
  }
 ],
 "metadata": {
  "kernelspec": {
   "display_name": "SageMath 9.2",
   "language": "sage",
   "name": "sagemath"
  },
  "language_info": {
   "codemirror_mode": {
    "name": "ipython",
    "version": 3
   },
   "file_extension": ".py",
   "mimetype": "text/x-python",
   "name": "python",
   "nbconvert_exporter": "python",
   "pygments_lexer": "ipython3",
   "version": "3.7.7"
  }
 },
 "nbformat": 4,
 "nbformat_minor": 4
}
