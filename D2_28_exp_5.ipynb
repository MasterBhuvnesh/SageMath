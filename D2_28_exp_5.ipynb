{
 "cells": [
  {
   "cell_type": "markdown",
   "metadata": {},
   "source": [
    "# Department of Mathematics\n",
    "# Computational Mathematics Lab\n",
    "## Name:- Bhuvnesh Verma\n",
    "## Roll No:- D2-28\n",
    "## Section :- D\n",
    "## Branch :- AIML"
   ]
  },
  {
   "cell_type": "markdown",
   "metadata": {},
   "source": [
    "# Experiment 5: Difference Equation (Recurrence Relation)"
   ]
  },
  {
   "cell_type": "markdown",
   "metadata": {},
   "source": [
    "### Aim:- To learn Difference Equation with SageMath"
   ]
  },
  {
   "cell_type": "markdown",
   "metadata": {},
   "source": [
    "\n",
    "### Q1.Write a recurrence realtion for the number of ways to arrange 'n' distinct objects in a row."
   ]
  },
  {
   "cell_type": "markdown",
   "metadata": {},
   "source": [
    "### Ans. The recurrence relation is $a_{n}=n*a_{(n-1)}$\n"
   ]
  },
  {
   "cell_type": "code",
   "execution_count": 6,
   "metadata": {},
   "outputs": [
    {
     "data": {
      "text/latex": [
       "$\\displaystyle n!$"
      ],
      "text/plain": [
       "factorial(n)"
      ]
     },
     "execution_count": 6,
     "metadata": {},
     "output_type": "execute_result"
    }
   ],
   "source": [
    "from sympy import Function, rsolve\n",
    "var('n')\n",
    "y = Function('y')\n",
    "f = y(n) - n*y(n-1)\n",
    "b = rsolve(f, y(n), {y(1): 1})\n",
    "b"
   ]
  },
  {
   "cell_type": "markdown",
   "metadata": {},
   "source": [
    "### Q2. An elf has a staircase of 'n' stairs to climb. Each step it takes can cover either one stair or two stairs. Find a recurrence relation for the number of different ways for the elf to climb the'n'-staired staircase and also solve their recurrence relation."
   ]
  },
  {
   "cell_type": "code",
   "execution_count": 14,
   "metadata": {},
   "outputs": [
    {
     "data": {
      "text/latex": [
       "$\\displaystyle \\left(\\frac{1}{2} - \\frac{\\sqrt{5}}{2}\\right)^{n} \\left(\\frac{1}{2} - \\frac{\\sqrt{5}}{10}\\right) + \\left(\\frac{1}{2} + \\frac{\\sqrt{5}}{2}\\right)^{n} \\left(\\frac{\\sqrt{5}}{10} + \\frac{1}{2}\\right)$"
      ],
      "text/plain": [
       "(1/2 - sqrt(5)/2)**n*(1/2 - sqrt(5)/10) + (1/2 + sqrt(5)/2)**n*(sqrt(5)/10 + 1/2)"
      ]
     },
     "execution_count": 14,
     "metadata": {},
     "output_type": "execute_result"
    }
   ],
   "source": [
    "from sympy import Function, rsolve\n",
    "var('n')\n",
    "y = Function('y')\n",
    "f = y(n) - y(n-1) - y(n-2)\n",
    "b = rsolve(f, y(n), {y(0): 1, y(1): 1})\n",
    "b"
   ]
  },
  {
   "cell_type": "markdown",
   "metadata": {},
   "source": [
    "### Q3. The Tower of Hanoi is a game consisting of 'n' circular rings of varying size and three pegs on which the rings fit. Initially all the rings are placed on one peg with target ring at the bottom covered by successively smaller rings. The rules of puzzle allow disks to be moved one at a time from one peg to another as long as a disk is never placed on top of a smaller disk. The goal of puzzle is to have all the disks on second peg in order of size, with the largest one on the bottom."
   ]
  },
  {
   "cell_type": "code",
   "execution_count": 19,
   "metadata": {},
   "outputs": [
    {
     "data": {
      "text/latex": [
       "$\\displaystyle 2^{n} - 1$"
      ],
      "text/plain": [
       "2**n - 1"
      ]
     },
     "execution_count": 19,
     "metadata": {},
     "output_type": "execute_result"
    }
   ],
   "source": [
    "from sympy import Function, rsolve\n",
    "var('n')\n",
    "y = Function('y')\n",
    "f = y(n) - 2*y(n-1) - 1\n",
    "b = rsolve(f, y(n), {y(1): 1, y(2): 3})\n",
    "b"
   ]
  },
  {
   "cell_type": "markdown",
   "metadata": {},
   "source": [
    "### Q4. Suppose we draw 'n' straight lines on a piece of paper so that every pair of lines intersect (but no 3 lines intersect at a common point). Into how many regions do these 'n' lines divide the plane?"
   ]
  },
  {
   "cell_type": "code",
   "execution_count": 20,
   "metadata": {},
   "outputs": [
    {
     "data": {
      "text/latex": [
       "$\\displaystyle \\frac{n \\left(n + 1\\right)}{2} + 1$"
      ],
      "text/plain": [
       "n*(n + 1)/2 + 1"
      ]
     },
     "execution_count": 20,
     "metadata": {},
     "output_type": "execute_result"
    }
   ],
   "source": [
    "from sympy import Function, rsolve\n",
    "var('n')\n",
    "y = Function('y')\n",
    "f = y(n) - y(n-1) - n\n",
    "b = rsolve(f, y(n), {y(1): 2, y(2): 4})\n",
    "b"
   ]
  },
  {
   "cell_type": "markdown",
   "metadata": {},
   "source": [
    "### Q5. A bank pays 8 percent interest each year on money in saving accounts. Find the recurrence relations for the amount of money a man would have after 'n' years if it follows the investment stratergies:-\n",
    "\n",
    "### (a) Investing Rs.1000 and leaving it in the bank for 'n' years.\n",
    "\n",
    "### (b) Investing Rs.100 at the end of each year."
   ]
  },
  {
   "cell_type": "code",
   "execution_count": 23,
   "metadata": {},
   "outputs": [
    {
     "data": {
      "text/latex": [
       "$\\displaystyle 1000.0 \\cdot 1.08^{n}$"
      ],
      "text/plain": [
       "1000.0*1.08**n"
      ]
     },
     "execution_count": 23,
     "metadata": {},
     "output_type": "execute_result"
    }
   ],
   "source": [
    "from sympy import Function, rsolve\n",
    "var('n')\n",
    "y = Function('y')\n",
    "f = y(n) - 1.08*y(n-1) \n",
    "b = rsolve(f, y(n), {y(0): 1000, y(1): 1080})\n",
    "b"
   ]
  },
  {
   "cell_type": "code",
   "execution_count": 24,
   "metadata": {},
   "outputs": [
    {
     "data": {
      "text/latex": [
       "$\\displaystyle 1350.0 \\cdot 1.08^{n} - 1250.0$"
      ],
      "text/plain": [
       "1350.0*1.08**n - 1250.0"
      ]
     },
     "execution_count": 24,
     "metadata": {},
     "output_type": "execute_result"
    }
   ],
   "source": [
    "from sympy import Function, rsolve\n",
    "var('n')\n",
    "y = Function('y')\n",
    "f = y(n) - 1.08*y(n-1) - 100\n",
    "b = rsolve(f, y(n), {y(0): 100, y(1): 208})\n",
    "b"
   ]
  },
  {
   "cell_type": "markdown",
   "metadata": {},
   "source": [
    "## Exercise."
   ]
  },
  {
   "cell_type": "markdown",
   "metadata": {},
   "source": [
    "### 1) Solve  $a_{n}=a_{(n-1)}+2a_{(n-2)}$ with the intial conditions $a_{0} = 0 , a_{1} = 1.$"
   ]
  },
  {
   "cell_type": "code",
   "execution_count": 3,
   "metadata": {},
   "outputs": [
    {
     "data": {
      "text/latex": [
       "$\\displaystyle - \\frac{\\left(-1\\right)^{n}}{3} + \\frac{2^{n}}{3}$"
      ],
      "text/plain": [
       "-(-1)**n/3 + 2**n/3"
      ]
     },
     "execution_count": 3,
     "metadata": {},
     "output_type": "execute_result"
    }
   ],
   "source": [
    "from sympy import Function, rsolve\n",
    "var('n')\n",
    "y = Function('y')\n",
    "f = y(n) - y(n-1) - 2*y(n-2)\n",
    "b = rsolve(f, y(n), {y(1): 1,y(0): 0})\n",
    "b"
   ]
  },
  {
   "cell_type": "markdown",
   "metadata": {},
   "source": [
    "### 2) Solve  $a_{n+2}=5a_{(n+1)}+6a_{(n)}$ with the intial conditions $a_{0} = 0 , a_{1} = -1.$"
   ]
  },
  {
   "cell_type": "code",
   "execution_count": 5,
   "metadata": {},
   "outputs": [
    {
     "data": {
      "text/latex": [
       "$\\displaystyle \\frac{\\left(-1\\right)^{n}}{7} - \\frac{6^{n}}{7}$"
      ],
      "text/plain": [
       "(-1)**n/7 - 6**n/7"
      ]
     },
     "execution_count": 5,
     "metadata": {},
     "output_type": "execute_result"
    }
   ],
   "source": [
    "from sympy import Function, rsolve\n",
    "var('n')\n",
    "y = Function('y')\n",
    "f = 6*y(n) + 5*y(n+1) - y(n+2)\n",
    "b = rsolve(f, y(n), {y(1): -1,y(0): 0})\n",
    "b"
   ]
  },
  {
   "cell_type": "markdown",
   "metadata": {},
   "source": [
    "### 3) Solve  $a_{n+2}=a_{(n+1)}+a_{(n)}+n^2$ with the intial conditions $a_{0} = 0 , a_{1} = 1.$"
   ]
  },
  {
   "cell_type": "code",
   "execution_count": 8,
   "metadata": {},
   "outputs": [
    {
     "data": {
      "text/latex": [
       "$\\displaystyle n^{2} \\left(- \\frac{\\sqrt{5}}{4} - \\frac{1}{4}\\right) + \\left(\\frac{1}{2} - \\frac{\\sqrt{5}}{2}\\right)^{n} \\left(- \\frac{\\sqrt{5}}{4} - \\frac{1}{4}\\right) + \\left(\\frac{1}{4} + \\frac{\\sqrt{5}}{4}\\right) \\left(\\frac{1}{2} + \\frac{\\sqrt{5}}{2}\\right)^{n}$"
      ],
      "text/plain": [
       "n**2*(-sqrt(5)/4 - 1/4) + (1/2 - sqrt(5)/2)**n*(-sqrt(5)/4 - 1/4) + (1/4 + sqrt(5)/4)*(1/2 + sqrt(5)/2)**n"
      ]
     },
     "execution_count": 8,
     "metadata": {},
     "output_type": "execute_result"
    }
   ],
   "source": [
    "from sympy import Function, rsolve\n",
    "var('n')\n",
    "y = Function('y')\n",
    "f = y(n+2)-y(n)-y(n+1)-n^2\n",
    "b = rsolve(f, y(n), {y(1): 1,y(0): 0})\n",
    "b"
   ]
  },
  {
   "cell_type": "markdown",
   "metadata": {},
   "source": [
    "###  4) Find the number of binary sequences of length 'n' having no 11 by using recurrence relation."
   ]
  },
  {
   "cell_type": "code",
   "execution_count": 1,
   "metadata": {},
   "outputs": [
    {
     "data": {
      "text/latex": [
       "$\\displaystyle \\left(\\frac{1}{2} - \\frac{\\sqrt{5}}{2}\\right)^{n} \\left(\\frac{1}{2} - \\frac{3 \\sqrt{5}}{10}\\right) + \\left(\\frac{1}{2} + \\frac{3 \\sqrt{5}}{10}\\right) \\left(\\frac{1}{2} + \\frac{\\sqrt{5}}{2}\\right)^{n}$"
      ],
      "text/plain": [
       "(1/2 - sqrt(5)/2)**n*(1/2 - 3*sqrt(5)/10) + (1/2 + 3*sqrt(5)/10)*(1/2 + sqrt(5)/2)**n"
      ]
     },
     "execution_count": 1,
     "metadata": {},
     "output_type": "execute_result"
    }
   ],
   "source": [
    "from sympy import Function, rsolve\n",
    "var('n')\n",
    "y = Function('y')\n",
    "f = y(n) - y(n-1) -  y(n-2)\n",
    "b = rsolve(f, y(n), {y(1): 2, y(2): 3})\n",
    "b"
   ]
  },
  {
   "cell_type": "markdown",
   "metadata": {},
   "source": [
    "###  5) Every year Dr Finch's rabbit population doubles. He started with six rabbits. How many rabbits does he have after eight years? After n years?\n"
   ]
  },
  {
   "cell_type": "code",
   "execution_count": 16,
   "metadata": {},
   "outputs": [
    {
     "data": {
      "text/latex": [
       "$\\displaystyle 6 \\cdot 2^{n}$"
      ],
      "text/plain": [
       "6*2**n"
      ]
     },
     "execution_count": 16,
     "metadata": {},
     "output_type": "execute_result"
    }
   ],
   "source": [
    "from sympy import Function, rsolve\n",
    "var('n')\n",
    "P = Function('P')\n",
    "recurrence_relation = P(n)- 2 * P(n-1)\n",
    "solution = rsolve(recurrence_relation, P(n),{P(0): 6})\n",
    "solution"
   ]
  }
 ],
 "metadata": {
  "kernelspec": {
   "display_name": "SageMath 9.3",
   "language": "sage",
   "name": "sagemath"
  },
  "language_info": {
   "codemirror_mode": {
    "name": "ipython",
    "version": 3
   },
   "file_extension": ".py",
   "mimetype": "text/x-python",
   "name": "python",
   "nbconvert_exporter": "python",
   "pygments_lexer": "ipython3",
   "version": "3.7.10"
  }
 },
 "nbformat": 4,
 "nbformat_minor": 4
}
