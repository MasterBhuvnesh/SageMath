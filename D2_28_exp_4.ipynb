{
 "cells": [
  {
   "cell_type": "markdown",
   "metadata": {},
   "source": [
    "# Name = Bhuvnesh Verma\n",
    "# Roll No. = D2_28\n",
    "# Section = D"
   ]
  },
  {
   "cell_type": "markdown",
   "metadata": {},
   "source": [
    "## Experiment 4 : Differential Calculus and its application"
   ]
  },
  {
   "cell_type": "code",
   "execution_count": 1,
   "metadata": {},
   "outputs": [
    {
     "data": {
      "image/png": "[encoded data removed]",
      "text/plain": [
       "Graphics object consisting of 1 graphics primitive"
      ]
     },
     "execution_count": 1,
     "metadata": {},
     "output_type": "execute_result"
    }
   ],
   "source": [
    "f(x)=x/abs(x)\n",
    "plot(f(x),(x,-2,2),figsize=3)"
   ]
  },
  {
   "cell_type": "code",
   "execution_count": 2,
   "metadata": {},
   "outputs": [
    {
     "data": {
      "text/plain": [
       "und"
      ]
     },
     "execution_count": 2,
     "metadata": {},
     "output_type": "execute_result"
    }
   ],
   "source": [
    "limit(f(x),x=0)"
   ]
  },
  {
   "cell_type": "code",
   "execution_count": 3,
   "metadata": {},
   "outputs": [
    {
     "data": {
      "text/plain": [
       "1"
      ]
     },
     "execution_count": 3,
     "metadata": {},
     "output_type": "execute_result"
    }
   ],
   "source": [
    "limit(f(x),x=0,dir =\"+\")"
   ]
  },
  {
   "cell_type": "code",
   "execution_count": 4,
   "metadata": {},
   "outputs": [
    {
     "data": {
      "text/plain": [
       "-1"
      ]
     },
     "execution_count": 4,
     "metadata": {},
     "output_type": "execute_result"
    }
   ],
   "source": [
    "limit(f(x),x=0,dir =\"-\")"
   ]
  },
  {
   "cell_type": "code",
   "execution_count": 8,
   "metadata": {},
   "outputs": [
    {
     "data": {
      "image/png": "[encoded data removed]",
      "text/plain": [
       "Graphics object consisting of 1 graphics primitive"
      ]
     },
     "execution_count": 8,
     "metadata": {},
     "output_type": "execute_result"
    }
   ],
   "source": [
    "plot((x^2-4)/(x-2),0,4,figsize=5)"
   ]
  },
  {
   "cell_type": "code",
   "execution_count": 6,
   "metadata": {},
   "outputs": [
    {
     "data": {
      "text/plain": [
       "4"
      ]
     },
     "execution_count": 6,
     "metadata": {},
     "output_type": "execute_result"
    }
   ],
   "source": [
    "limit((x^2-4)/(x-2),x=2)"
   ]
  },
  {
   "cell_type": "code",
   "execution_count": 7,
   "metadata": {},
   "outputs": [
    {
     "data": {
      "text/plain": [
       "-120"
      ]
     },
     "execution_count": 7,
     "metadata": {},
     "output_type": "execute_result"
    }
   ],
   "source": [
    "limit((x^2-x^4)/(x-2),x=4)"
   ]
  },
  {
   "cell_type": "code",
   "execution_count": 2,
   "metadata": {},
   "outputs": [],
   "source": [
    "f(x)=x*sin(1/x)"
   ]
  },
  {
   "cell_type": "code",
   "execution_count": 3,
   "metadata": {},
   "outputs": [
    {
     "data": {
      "text/html": [
       "<html><script type=\"math/tex; mode=display\">\\newcommand{\\Bold}[1]{\\mathbf{#1}}x \\ {\\mapsto}\\ -\\frac{\\cos\\left(\\frac{1}{x}\\right)}{x} + \\sin\\left(\\frac{1}{x}\\right)</script></html>"
      ],
      "text/latex": [
       "$$\\newcommand{\\Bold}[1]{\\mathbf{#1}}x \\ {\\mapsto}\\ -\\frac{\\cos\\left(\\frac{1}{x}\\right)}{x} + \\sin\\left(\\frac{1}{x}\\right)$$"
      ],
      "text/plain": [
       "x |--> -cos(1/x)/x + sin(1/x)"
      ]
     },
     "metadata": {},
     "output_type": "display_data"
    }
   ],
   "source": [
    "show(f.diff(x))"
   ]
  },
  {
   "cell_type": "code",
   "execution_count": 4,
   "metadata": {},
   "outputs": [
    {
     "data": {
      "text/html": [
       "<html><script type=\"math/tex; mode=display\">\\newcommand{\\Bold}[1]{\\mathbf{#1}}x \\ {\\mapsto}\\ -\\frac{\\cos\\left(\\frac{1}{x}\\right)}{x} + \\sin\\left(\\frac{1}{x}\\right)</script></html>"
      ],
      "text/latex": [
       "$$\\newcommand{\\Bold}[1]{\\mathbf{#1}}x \\ {\\mapsto}\\ -\\frac{\\cos\\left(\\frac{1}{x}\\right)}{x} + \\sin\\left(\\frac{1}{x}\\right)$$"
      ],
      "text/plain": [
       "x |--> -cos(1/x)/x + sin(1/x)"
      ]
     },
     "metadata": {},
     "output_type": "display_data"
    },
    {
     "data": {
      "text/html": [
       "<html><script type=\"math/tex; mode=display\">\\newcommand{\\Bold}[1]{\\mathbf{#1}}x \\ {\\mapsto}\\ -\\frac{\\sin\\left(\\frac{1}{x}\\right)}{x^{3}}</script></html>"
      ],
      "text/latex": [
       "$$\\newcommand{\\Bold}[1]{\\mathbf{#1}}x \\ {\\mapsto}\\ -\\frac{\\sin\\left(\\frac{1}{x}\\right)}{x^{3}}$$"
      ],
      "text/plain": [
       "x |--> -sin(1/x)/x^3"
      ]
     },
     "metadata": {},
     "output_type": "display_data"
    },
    {
     "data": {
      "text/html": [
       "<html><script type=\"math/tex; mode=display\">\\newcommand{\\Bold}[1]{\\mathbf{#1}}x \\ {\\mapsto}\\ \\frac{3 \\, \\sin\\left(\\frac{1}{x}\\right)}{x^{4}} + \\frac{\\cos\\left(\\frac{1}{x}\\right)}{x^{5}}</script></html>"
      ],
      "text/latex": [
       "$$\\newcommand{\\Bold}[1]{\\mathbf{#1}}x \\ {\\mapsto}\\ \\frac{3 \\, \\sin\\left(\\frac{1}{x}\\right)}{x^{4}} + \\frac{\\cos\\left(\\frac{1}{x}\\right)}{x^{5}}$$"
      ],
      "text/plain": [
       "x |--> 3*sin(1/x)/x^4 + cos(1/x)/x^5"
      ]
     },
     "metadata": {},
     "output_type": "display_data"
    }
   ],
   "source": [
    "show(f.diff(x))\n",
    "show(f.diff(2))\n",
    "show(f.diff(3))"
   ]
  },
  {
   "cell_type": "code",
   "execution_count": 6,
   "metadata": {},
   "outputs": [],
   "source": [
    "f(x)=(x**2)*cos(1/x)"
   ]
  },
  {
   "cell_type": "code",
   "execution_count": 7,
   "metadata": {},
   "outputs": [
    {
     "data": {
      "text/html": [
       "<html><script type=\"math/tex; mode=display\">\\newcommand{\\Bold}[1]{\\mathbf{#1}}x \\ {\\mapsto}\\ 2 \\, x \\cos\\left(\\frac{1}{x}\\right) + \\sin\\left(\\frac{1}{x}\\right)</script></html>"
      ],
      "text/latex": [
       "$$\\newcommand{\\Bold}[1]{\\mathbf{#1}}x \\ {\\mapsto}\\ 2 \\, x \\cos\\left(\\frac{1}{x}\\right) + \\sin\\left(\\frac{1}{x}\\right)$$"
      ],
      "text/plain": [
       "x |--> 2*x*cos(1/x) + sin(1/x)"
      ]
     },
     "metadata": {},
     "output_type": "display_data"
    },
    {
     "data": {
      "text/html": [
       "<html><script type=\"math/tex; mode=display\">\\newcommand{\\Bold}[1]{\\mathbf{#1}}x \\ {\\mapsto}\\ \\frac{2 \\, \\sin\\left(\\frac{1}{x}\\right)}{x} - \\frac{\\cos\\left(\\frac{1}{x}\\right)}{x^{2}} + 2 \\, \\cos\\left(\\frac{1}{x}\\right)</script></html>"
      ],
      "text/latex": [
       "$$\\newcommand{\\Bold}[1]{\\mathbf{#1}}x \\ {\\mapsto}\\ \\frac{2 \\, \\sin\\left(\\frac{1}{x}\\right)}{x} - \\frac{\\cos\\left(\\frac{1}{x}\\right)}{x^{2}} + 2 \\, \\cos\\left(\\frac{1}{x}\\right)$$"
      ],
      "text/plain": [
       "x |--> 2*sin(1/x)/x - cos(1/x)/x^2 + 2*cos(1/x)"
      ]
     },
     "metadata": {},
     "output_type": "display_data"
    },
    {
     "data": {
      "text/html": [
       "<html><script type=\"math/tex; mode=display\">\\newcommand{\\Bold}[1]{\\mathbf{#1}}x \\ {\\mapsto}\\ -\\frac{\\sin\\left(\\frac{1}{x}\\right)}{x^{4}}</script></html>"
      ],
      "text/latex": [
       "$$\\newcommand{\\Bold}[1]{\\mathbf{#1}}x \\ {\\mapsto}\\ -\\frac{\\sin\\left(\\frac{1}{x}\\right)}{x^{4}}$$"
      ],
      "text/plain": [
       "x |--> -sin(1/x)/x^4"
      ]
     },
     "metadata": {},
     "output_type": "display_data"
    }
   ],
   "source": [
    "show(f.diff(x))\n",
    "show(f.diff(2))\n",
    "show(f.diff(3))"
   ]
  },
  {
   "cell_type": "code",
   "execution_count": 8,
   "metadata": {},
   "outputs": [],
   "source": [
    "f(x)=2*(x**7)+8*(x**9)"
   ]
  },
  {
   "cell_type": "code",
   "execution_count": 9,
   "metadata": {},
   "outputs": [
    {
     "data": {
      "text/html": [
       "<html><script type=\"math/tex; mode=display\">\\newcommand{\\Bold}[1]{\\mathbf{#1}}x \\ {\\mapsto}\\ 72 \\, x^{8} + 14 \\, x^{6}</script></html>"
      ],
      "text/latex": [
       "$$\\newcommand{\\Bold}[1]{\\mathbf{#1}}x \\ {\\mapsto}\\ 72 \\, x^{8} + 14 \\, x^{6}$$"
      ],
      "text/plain": [
       "x |--> 72*x^8 + 14*x^6"
      ]
     },
     "metadata": {},
     "output_type": "display_data"
    },
    {
     "data": {
      "text/html": [
       "<html><script type=\"math/tex; mode=display\">\\newcommand{\\Bold}[1]{\\mathbf{#1}}x \\ {\\mapsto}\\ 576 \\, x^{7} + 84 \\, x^{5}</script></html>"
      ],
      "text/latex": [
       "$$\\newcommand{\\Bold}[1]{\\mathbf{#1}}x \\ {\\mapsto}\\ 576 \\, x^{7} + 84 \\, x^{5}$$"
      ],
      "text/plain": [
       "x |--> 576*x^7 + 84*x^5"
      ]
     },
     "metadata": {},
     "output_type": "display_data"
    },
    {
     "data": {
      "text/html": [
       "<html><script type=\"math/tex; mode=display\">\\newcommand{\\Bold}[1]{\\mathbf{#1}}x \\ {\\mapsto}\\ 4032 \\, x^{6} + 420 \\, x^{4}</script></html>"
      ],
      "text/latex": [
       "$$\\newcommand{\\Bold}[1]{\\mathbf{#1}}x \\ {\\mapsto}\\ 4032 \\, x^{6} + 420 \\, x^{4}$$"
      ],
      "text/plain": [
       "x |--> 4032*x^6 + 420*x^4"
      ]
     },
     "metadata": {},
     "output_type": "display_data"
    }
   ],
   "source": [
    "show(f.diff(x))\n",
    "show(f.diff(2))\n",
    "show(f.diff(3))"
   ]
  },
  {
   "cell_type": "code",
   "execution_count": 10,
   "metadata": {},
   "outputs": [
    {
     "data": {
      "text/html": [
       "<html><script type=\"math/tex; mode=display\">\\newcommand{\\Bold}[1]{\\mathbf{#1}}x \\ {\\mapsto}\\ 2903040</script></html>"
      ],
      "text/latex": [
       "$$\\newcommand{\\Bold}[1]{\\mathbf{#1}}x \\ {\\mapsto}\\ 2903040$$"
      ],
      "text/plain": [
       "x |--> 2903040"
      ]
     },
     "metadata": {},
     "output_type": "display_data"
    }
   ],
   "source": [
    "show(f.diff(9))"
   ]
  },
  {
   "cell_type": "code",
   "execution_count": 11,
   "metadata": {},
   "outputs": [],
   "source": [
    "f(x)=((exp(2*x^2)+log(arcsin(x)))/sqrt(x^3+1/3))"
   ]
  },
  {
   "cell_type": "code",
   "execution_count": 12,
   "metadata": {},
   "outputs": [
    {
     "data": {
      "text/html": [
       "<html><script type=\"math/tex; mode=display\">\\newcommand{\\Bold}[1]{\\mathbf{#1}}\\frac{e^{\\left(2 \\, x^{2}\\right)} + \\log\\left(\\arcsin\\left(x\\right)\\right)}{\\sqrt{x^{3} + \\frac{1}{3}}}</script></html>"
      ],
      "text/latex": [
       "$$\\newcommand{\\Bold}[1]{\\mathbf{#1}}\\frac{e^{\\left(2 \\, x^{2}\\right)} + \\log\\left(\\arcsin\\left(x\\right)\\right)}{\\sqrt{x^{3} + \\frac{1}{3}}}$$"
      ],
      "text/plain": [
       "(e^(2*x^2) + log(arcsin(x)))/sqrt(x^3 + 1/3)"
      ]
     },
     "metadata": {},
     "output_type": "display_data"
    }
   ],
   "source": [
    "show(f(x))"
   ]
  },
  {
   "cell_type": "code",
   "execution_count": 13,
   "metadata": {},
   "outputs": [
    {
     "data": {
      "text/html": [
       "<html><script type=\"math/tex; mode=display\">\\newcommand{\\Bold}[1]{\\mathbf{#1}}x \\ {\\mapsto}\\ -\\frac{3 \\, x^{2} {\\left(e^{\\left(2 \\, x^{2}\\right)} + \\log\\left(\\arcsin\\left(x\\right)\\right)\\right)}}{2 \\, {\\left(x^{3} + \\frac{1}{3}\\right)}^{\\frac{3}{2}}} + \\frac{4 \\, x e^{\\left(2 \\, x^{2}\\right)} + \\frac{1}{\\sqrt{-x^{2} + 1} \\arcsin\\left(x\\right)}}{\\sqrt{x^{3} + \\frac{1}{3}}}</script></html>"
      ],
      "text/latex": [
       "$$\\newcommand{\\Bold}[1]{\\mathbf{#1}}x \\ {\\mapsto}\\ -\\frac{3 \\, x^{2} {\\left(e^{\\left(2 \\, x^{2}\\right)} + \\log\\left(\\arcsin\\left(x\\right)\\right)\\right)}}{2 \\, {\\left(x^{3} + \\frac{1}{3}\\right)}^{\\frac{3}{2}}} + \\frac{4 \\, x e^{\\left(2 \\, x^{2}\\right)} + \\frac{1}{\\sqrt{-x^{2} + 1} \\arcsin\\left(x\\right)}}{\\sqrt{x^{3} + \\frac{1}{3}}}$$"
      ],
      "text/plain": [
       "x |--> -3/2*x^2*(e^(2*x^2) + log(arcsin(x)))/(x^3 + 1/3)^(3/2) + (4*x*e^(2*x^2) + 1/(sqrt(-x^2 + 1)*arcsin(x)))/sqrt(x^3 + 1/3)"
      ]
     },
     "metadata": {},
     "output_type": "display_data"
    }
   ],
   "source": [
    "show(f.diff())"
   ]
  },
  {
   "cell_type": "code",
   "execution_count": 14,
   "metadata": {},
   "outputs": [],
   "source": [
    "f(x)=sin(cos(5*x))-e^(x-2)^2"
   ]
  },
  {
   "cell_type": "code",
   "execution_count": 15,
   "metadata": {},
   "outputs": [
    {
     "data": {
      "text/html": [
       "<html><script type=\"math/tex; mode=display\">\\newcommand{\\Bold}[1]{\\mathbf{#1}}-e^{\\left({\\left(x - 2\\right)}^{2}\\right)} + \\sin\\left(\\cos\\left(5 \\, x\\right)\\right)</script></html>"
      ],
      "text/latex": [
       "$$\\newcommand{\\Bold}[1]{\\mathbf{#1}}-e^{\\left({\\left(x - 2\\right)}^{2}\\right)} + \\sin\\left(\\cos\\left(5 \\, x\\right)\\right)$$"
      ],
      "text/plain": [
       "-e^((x - 2)^2) + sin(cos(5*x))"
      ]
     },
     "metadata": {},
     "output_type": "display_data"
    }
   ],
   "source": [
    "show(f(x))"
   ]
  },
  {
   "cell_type": "code",
   "execution_count": 16,
   "metadata": {},
   "outputs": [
    {
     "data": {
      "image/png": "[encoded data removed]",
      "text/plain": [
       "Graphics object consisting of 3 graphics primitives"
      ]
     },
     "execution_count": 16,
     "metadata": {},
     "output_type": "execute_result"
    }
   ],
   "source": [
    "P1=plot(f.diff(x),(x,0.5,2),figsize=4,color='red')\n",
    "P2=plot(f.diff(2),(x,0.5,2),figsize=4,color='blue')\n",
    "P3=plot(f.diff(3),(x,0.5,2),figsize=4,color='turquoise')\n",
    "P1+P2+P3"
   ]
  },
  {
   "cell_type": "code",
   "execution_count": 17,
   "metadata": {},
   "outputs": [
    {
     "data": {
      "text/html": [
       "<html><script type=\"math/tex; mode=display\">\\newcommand{\\Bold}[1]{\\mathbf{#1}}\\frac{x y}{x + y}</script></html>"
      ],
      "text/latex": [
       "$$\\newcommand{\\Bold}[1]{\\mathbf{#1}}\\frac{x y}{x + y}$$"
      ],
      "text/plain": [
       "x*y/(x + y)"
      ]
     },
     "metadata": {},
     "output_type": "display_data"
    },
    {
     "data": {
      "text/html": [
       "<html><script type=\"math/tex; mode=display\">\\newcommand{\\Bold}[1]{\\mathbf{#1}}\\frac{y}{x + y} - \\frac{x y}{{\\left(x + y\\right)}^{2}}</script></html>"
      ],
      "text/latex": [
       "$$\\newcommand{\\Bold}[1]{\\mathbf{#1}}\\frac{y}{x + y} - \\frac{x y}{{\\left(x + y\\right)}^{2}}$$"
      ],
      "text/plain": [
       "y/(x + y) - x*y/(x + y)^2"
      ]
     },
     "metadata": {},
     "output_type": "display_data"
    },
    {
     "data": {
      "text/html": [
       "<html><script type=\"math/tex; mode=display\">\\newcommand{\\Bold}[1]{\\mathbf{#1}}-\\frac{2 \\, y}{{\\left(x + y\\right)}^{2}} + \\frac{2 \\, x y}{{\\left(x + y\\right)}^{3}}</script></html>"
      ],
      "text/latex": [
       "$$\\newcommand{\\Bold}[1]{\\mathbf{#1}}-\\frac{2 \\, y}{{\\left(x + y\\right)}^{2}} + \\frac{2 \\, x y}{{\\left(x + y\\right)}^{3}}$$"
      ],
      "text/plain": [
       "-2*y/(x + y)^2 + 2*x*y/(x + y)^3"
      ]
     },
     "metadata": {},
     "output_type": "display_data"
    },
    {
     "data": {
      "text/html": [
       "<html><script type=\"math/tex; mode=display\">\\newcommand{\\Bold}[1]{\\mathbf{#1}}-\\frac{2 \\, x}{{\\left(x + y\\right)}^{2}} + \\frac{2 \\, x y}{{\\left(x + y\\right)}^{3}}</script></html>"
      ],
      "text/latex": [
       "$$\\newcommand{\\Bold}[1]{\\mathbf{#1}}-\\frac{2 \\, x}{{\\left(x + y\\right)}^{2}} + \\frac{2 \\, x y}{{\\left(x + y\\right)}^{3}}$$"
      ],
      "text/plain": [
       "-2*x/(x + y)^2 + 2*x*y/(x + y)^3"
      ]
     },
     "metadata": {},
     "output_type": "display_data"
    },
    {
     "data": {
      "text/html": [
       "<html><script type=\"math/tex; mode=display\">\\newcommand{\\Bold}[1]{\\mathbf{#1}}-\\frac{2 \\, x}{{\\left(x + y\\right)}^{2}} + \\frac{2 \\, x y}{{\\left(x + y\\right)}^{3}}</script></html>"
      ],
      "text/latex": [
       "$$\\newcommand{\\Bold}[1]{\\mathbf{#1}}-\\frac{2 \\, x}{{\\left(x + y\\right)}^{2}} + \\frac{2 \\, x y}{{\\left(x + y\\right)}^{3}}$$"
      ],
      "text/plain": [
       "-2*x/(x + y)^2 + 2*x*y/(x + y)^3"
      ]
     },
     "metadata": {},
     "output_type": "display_data"
    },
    {
     "data": {
      "text/html": [
       "<html><script type=\"math/tex; mode=display\">\\newcommand{\\Bold}[1]{\\mathbf{#1}}-\\frac{2 \\, y}{{\\left(x + y\\right)}^{2}} + \\frac{2 \\, x y}{{\\left(x + y\\right)}^{3}}</script></html>"
      ],
      "text/latex": [
       "$$\\newcommand{\\Bold}[1]{\\mathbf{#1}}-\\frac{2 \\, y}{{\\left(x + y\\right)}^{2}} + \\frac{2 \\, x y}{{\\left(x + y\\right)}^{3}}$$"
      ],
      "text/plain": [
       "-2*y/(x + y)^2 + 2*x*y/(x + y)^3"
      ]
     },
     "metadata": {},
     "output_type": "display_data"
    }
   ],
   "source": [
    "var('x,y')\n",
    "f(x,y)=x*y/(x+y)\n",
    "show(f(x))\n",
    "fx=f.diff(x)\n",
    "show(fx(x,y))\n",
    "fy=f.diff(y)\n",
    "fxx=f.diff(x,2)\n",
    "show(fxx(x,y))\n",
    "fyy=f.diff(y,2)\n",
    "show(fyy(x,y))\n",
    "fxy=f.diff(y,2)\n",
    "show(fxy(x,y))\n",
    "fyx=f.diff(x,2)\n",
    "show(fyx(x,y))\n"
   ]
  },
  {
   "cell_type": "code",
   "execution_count": 18,
   "metadata": {},
   "outputs": [
    {
     "data": {
      "text/html": [
       "<html><script type=\"math/tex; mode=display\">\\newcommand{\\Bold}[1]{\\mathbf{#1}}x^{3} + y^{3} - 6 \\, x y</script></html>"
      ],
      "text/latex": [
       "$$\\newcommand{\\Bold}[1]{\\mathbf{#1}}x^{3} + y^{3} - 6 \\, x y$$"
      ],
      "text/plain": [
       "x^3 + y^3 - 6*x*y"
      ]
     },
     "metadata": {},
     "output_type": "display_data"
    },
    {
     "data": {
      "text/html": [
       "<html><script type=\"math/tex; mode=display\">\\newcommand{\\Bold}[1]{\\mathbf{#1}}-\\frac{x^{2} - 2 \\, y}{y^{2} - 2 \\, x}</script></html>"
      ],
      "text/latex": [
       "$$\\newcommand{\\Bold}[1]{\\mathbf{#1}}-\\frac{x^{2} - 2 \\, y}{y^{2} - 2 \\, x}$$"
      ],
      "text/plain": [
       "-(x^2 - 2*y)/(y^2 - 2*x)"
      ]
     },
     "metadata": {},
     "output_type": "display_data"
    }
   ],
   "source": [
    "var('x,y')\n",
    "f(x,y)=x^3+y^3-6*x*y\n",
    "show(f(x,y))\n",
    "fy=f.diff(y)\n",
    "fx=f.diff(x)\n",
    "show(-fx(x,y)/fy(x,y))"
   ]
  },
  {
   "cell_type": "code",
   "execution_count": 19,
   "metadata": {},
   "outputs": [
    {
     "data": {
      "text/html": [
       "<html><script type=\"math/tex; mode=display\">\\newcommand{\\Bold}[1]{\\mathbf{#1}}e^{\\left(-2 \\, x^{2}\\right)} + e^{\\left(-\\frac{1}{2} \\, x\\right)}</script></html>"
      ],
      "text/latex": [
       "$$\\newcommand{\\Bold}[1]{\\mathbf{#1}}e^{\\left(-2 \\, x^{2}\\right)} + e^{\\left(-\\frac{1}{2} \\, x\\right)}$$"
      ],
      "text/plain": [
       "e^(-2*x^2) + e^(-1/2*x)"
      ]
     },
     "metadata": {},
     "output_type": "display_data"
    },
    {
     "data": {
      "image/png": "[encoded data removed]",
      "text/plain": [
       "Graphics object consisting of 1 graphics primitive"
      ]
     },
     "execution_count": 19,
     "metadata": {},
     "output_type": "execute_result"
    }
   ],
   "source": [
    "var('x')\n",
    "f(x)=e^(-x/2)+e^(-2*x^2)\n",
    "show(f(x))\n",
    "plot(f(x))"
   ]
  },
  {
   "cell_type": "code",
   "execution_count": 21,
   "metadata": {},
   "outputs": [
    {
     "data": {
      "text/plain": [
       "(2.0340673102820146, -0.13932333788684553)"
      ]
     },
     "execution_count": 21,
     "metadata": {},
     "output_type": "execute_result"
    }
   ],
   "source": [
    "f.find_local_maximum(-1,0)"
   ]
  },
  {
   "cell_type": "code",
   "execution_count": 22,
   "metadata": {},
   "outputs": [
    {
     "data": {
      "text/html": [
       "<html><script type=\"math/tex; mode=display\">\\newcommand{\\Bold}[1]{\\mathbf{#1}}2 \\, x^{3} - 9 \\, x^{2} + 12 \\, x - 3</script></html>"
      ],
      "text/latex": [
       "$$\\newcommand{\\Bold}[1]{\\mathbf{#1}}2 \\, x^{3} - 9 \\, x^{2} + 12 \\, x - 3$$"
      ],
      "text/plain": [
       "2*x^3 - 9*x^2 + 12*x - 3"
      ]
     },
     "metadata": {},
     "output_type": "display_data"
    },
    {
     "data": {
      "image/png": "[encoded data removed]",
      "text/plain": [
       "Graphics object consisting of 1 graphics primitive"
      ]
     },
     "execution_count": 22,
     "metadata": {},
     "output_type": "execute_result"
    }
   ],
   "source": [
    "var('x')\n",
    "f(x)= 2*x^3-9*x^2+12*x-3\n",
    "show(f(x))\n",
    "plot(f(x))\n"
   ]
  },
  {
   "cell_type": "code",
   "execution_count": 23,
   "metadata": {},
   "outputs": [
    {
     "data": {
      "text/plain": [
       "(-78.9999971595604, -1.9999999605494494)"
      ]
     },
     "execution_count": 23,
     "metadata": {},
     "output_type": "execute_result"
    }
   ],
   "source": [
    "f.find_local_minimum(-2,2)"
   ]
  },
  {
   "cell_type": "code",
   "execution_count": 24,
   "metadata": {},
   "outputs": [
    {
     "data": {
      "text/plain": [
       "(2.0, 0.9999999998942171)"
      ]
     },
     "execution_count": 24,
     "metadata": {},
     "output_type": "execute_result"
    }
   ],
   "source": [
    "f.find_local_maximum(-2,2)"
   ]
  },
  {
   "cell_type": "code",
   "execution_count": 25,
   "metadata": {},
   "outputs": [
    {
     "data": {
      "text/plain": [
       "(1.0, 2.0000000329777783)"
      ]
     },
     "execution_count": 25,
     "metadata": {},
     "output_type": "execute_result"
    }
   ],
   "source": [
    "f.find_local_minimum(1.5,3)"
   ]
  },
  {
   "cell_type": "code",
   "execution_count": 26,
   "metadata": {},
   "outputs": [
    {
     "data": {
      "text/plain": [
       "(5.999999181627793, 2.999999931802312)"
      ]
     },
     "execution_count": 26,
     "metadata": {},
     "output_type": "execute_result"
    }
   ],
   "source": [
    "f.find_local_maximum(1.5,3)"
   ]
  },
  {
   "cell_type": "code",
   "execution_count": 27,
   "metadata": {},
   "outputs": [
    {
     "data": {
      "text/html": [
       "<html><script type=\"math/tex; mode=display\">\\newcommand{\\Bold}[1]{\\mathbf{#1}}0.00130200000000000 \\, t^{3} - 20.0902900000000 \\, t^{2} + 23.6100000000000 \\, t - 3.08300000000000</script></html>"
      ],
      "text/latex": [
       "$$\\newcommand{\\Bold}[1]{\\mathbf{#1}}0.00130200000000000 \\, t^{3} - 20.0902900000000 \\, t^{2} + 23.6100000000000 \\, t - 3.08300000000000$$"
      ],
      "text/plain": [
       "0.00130200000000000*t^3 - 20.0902900000000*t^2 + 23.6100000000000*t - 3.08300000000000"
      ]
     },
     "metadata": {},
     "output_type": "display_data"
    }
   ],
   "source": [
    "f(t)=0.001302*t^3-20.09029*t^2+23.61*t-3.083\n",
    "show(f(t))"
   ]
  },
  {
   "cell_type": "code",
   "execution_count": 28,
   "metadata": {},
   "outputs": [
    {
     "data": {
      "text/html": [
       "<html><script type=\"math/tex; mode=display\">\\newcommand{\\Bold}[1]{\\mathbf{#1}}t \\ {\\mapsto}\\ 0.00390600000000000 \\, t^{2} - 40.1805800000000 \\, t + 23.6100000000000</script></html>"
      ],
      "text/latex": [
       "$$\\newcommand{\\Bold}[1]{\\mathbf{#1}}t \\ {\\mapsto}\\ 0.00390600000000000 \\, t^{2} - 40.1805800000000 \\, t + 23.6100000000000$$"
      ],
      "text/plain": [
       "t |--> 0.00390600000000000*t^2 - 40.1805800000000*t + 23.6100000000000"
      ]
     },
     "metadata": {},
     "output_type": "display_data"
    }
   ],
   "source": [
    "show(f.diff(t))\n"
   ]
  },
  {
   "cell_type": "code",
   "execution_count": 29,
   "metadata": {},
   "outputs": [
    {
     "data": {
      "text/plain": [
       "t |--> -4977.131424"
      ]
     },
     "execution_count": 29,
     "metadata": {},
     "output_type": "execute_result"
    }
   ],
   "source": [
    "limit(f.diff(t),t=126)"
   ]
  },
  {
   "cell_type": "code",
   "execution_count": 30,
   "metadata": {},
   "outputs": [
    {
     "data": {
      "text/plain": [
       "(23.609999727268548, 6.787643476263135e-09)"
      ]
     },
     "execution_count": 30,
     "metadata": {},
     "output_type": "execute_result"
    }
   ],
   "source": [
    "f.diff(t).find_local_maximum(0,126)"
   ]
  },
  {
   "cell_type": "code",
   "execution_count": 31,
   "metadata": {},
   "outputs": [
    {
     "data": {
      "text/plain": [
       "(-4977.131349515218, 125.9999980996971)"
      ]
     },
     "execution_count": 31,
     "metadata": {},
     "output_type": "execute_result"
    }
   ],
   "source": [
    "f.diff(t).find_local_minimum(0,126)"
   ]
  },
  {
   "cell_type": "markdown",
   "metadata": {},
   "source": [
    "# Excercise Question "
   ]
  },
  {
   "cell_type": "markdown",
   "metadata": {},
   "source": [
    "# Excercise: 4.1"
   ]
  },
  {
   "cell_type": "markdown",
   "metadata": {},
   "source": [
    "## Find the following limits"
   ]
  },
  {
   "cell_type": "code",
   "execution_count": 34,
   "metadata": {},
   "outputs": [
    {
     "data": {
      "text/html": [
       "<html><script type=\"math/tex; mode=display\">\\newcommand{\\Bold}[1]{\\mathbf{#1}}x^{2} - \\frac{1}{1000} \\cdot 2^{x}</script></html>"
      ],
      "text/latex": [
       "$$\\newcommand{\\Bold}[1]{\\mathbf{#1}}x^{2} - \\frac{1}{1000} \\cdot 2^{x}$$"
      ],
      "text/plain": [
       "x^2 - 1/1000*2^x"
      ]
     },
     "metadata": {},
     "output_type": "display_data"
    },
    {
     "data": {
      "text/plain": [
       "-1/1000"
      ]
     },
     "execution_count": 34,
     "metadata": {},
     "output_type": "execute_result"
    }
   ],
   "source": [
    "f(x)=x^2-(2^x/1000)\n",
    "show(f(x))\n",
    "limit(f(x),x=0)"
   ]
  },
  {
   "cell_type": "code",
   "execution_count": 38,
   "metadata": {},
   "outputs": [
    {
     "data": {
      "text/html": [
       "<html><script type=\"math/tex; mode=display\">\\newcommand{\\Bold}[1]{\\mathbf{#1}}\\frac{2 \\, x - 1}{2 \\, x^{3} - x^{2}}</script></html>"
      ],
      "text/latex": [
       "$$\\newcommand{\\Bold}[1]{\\mathbf{#1}}\\frac{2 \\, x - 1}{2 \\, x^{3} - x^{2}}$$"
      ],
      "text/plain": [
       "(2*x - 1)/(2*x^3 - x^2)"
      ]
     },
     "metadata": {},
     "output_type": "display_data"
    },
    {
     "data": {
      "text/plain": [
       "4.0"
      ]
     },
     "execution_count": 38,
     "metadata": {},
     "output_type": "execute_result"
    }
   ],
   "source": [
    "f(x)=(2*x-1)/(2*x^3-x^2)\n",
    "show(f(x))\n",
    "limit(f(x),x=0.5,dir =\"-\")"
   ]
  },
  {
   "cell_type": "markdown",
   "metadata": {},
   "source": [
    "# Excercise: 4.2"
   ]
  },
  {
   "cell_type": "markdown",
   "metadata": {},
   "source": [
    "## Find the first four derivatives of f(t)=ln(1+t^2) and plot them along with the graph of f(t)"
   ]
  },
  {
   "cell_type": "code",
   "execution_count": 41,
   "metadata": {},
   "outputs": [
    {
     "data": {
      "text/html": [
       "<html><script type=\"math/tex; mode=display\">\\newcommand{\\Bold}[1]{\\mathbf{#1}}\\log\\left(t^{2} + 1\\right)</script></html>"
      ],
      "text/latex": [
       "$$\\newcommand{\\Bold}[1]{\\mathbf{#1}}\\log\\left(t^{2} + 1\\right)$$"
      ],
      "text/plain": [
       "log(t^2 + 1)"
      ]
     },
     "metadata": {},
     "output_type": "display_data"
    }
   ],
   "source": [
    "f(t)=ln(1+t^2)\n",
    "show(f(t))"
   ]
  },
  {
   "cell_type": "code",
   "execution_count": 45,
   "metadata": {},
   "outputs": [
    {
     "data": {
      "image/png": "[encoded data removed]",
      "text/plain": [
       "Graphics object consisting of 4 graphics primitives"
      ]
     },
     "execution_count": 45,
     "metadata": {},
     "output_type": "execute_result"
    }
   ],
   "source": [
    "P1=plot(f.diff(x),figsize=4,color='red')\n",
    "P2=plot(f.diff(2),figsize=4,color='blue')\n",
    "P3=plot(f.diff(3),figsize=4,color='turquoise')\n",
    "P4=plot(f.diff(4),figsize=4,color='coral')\n",
    "P1+P2+P3+P4"
   ]
  },
  {
   "cell_type": "markdown",
   "metadata": {},
   "source": [
    "## Find the first four derivatives of f(x)=sin(3*x)+exp(-2*x)+ln(7*x)"
   ]
  },
  {
   "cell_type": "code",
   "execution_count": 48,
   "metadata": {},
   "outputs": [
    {
     "data": {
      "text/html": [
       "<html><script type=\"math/tex; mode=display\">\\newcommand{\\Bold}[1]{\\mathbf{#1}}e^{\\left(-2 \\, x\\right)} + \\log\\left(7 \\, x\\right) + \\sin\\left(3 \\, x\\right)</script></html>"
      ],
      "text/latex": [
       "$$\\newcommand{\\Bold}[1]{\\mathbf{#1}}e^{\\left(-2 \\, x\\right)} + \\log\\left(7 \\, x\\right) + \\sin\\left(3 \\, x\\right)$$"
      ],
      "text/plain": [
       "e^(-2*x) + log(7*x) + sin(3*x)"
      ]
     },
     "metadata": {},
     "output_type": "display_data"
    },
    {
     "data": {
      "text/html": [
       "<html><script type=\"math/tex; mode=display\">\\newcommand{\\Bold}[1]{\\mathbf{#1}}x \\ {\\mapsto}\\ \\frac{1}{x} + 3 \\, \\cos\\left(3 \\, x\\right) - 2 \\, e^{\\left(-2 \\, x\\right)}</script></html>"
      ],
      "text/latex": [
       "$$\\newcommand{\\Bold}[1]{\\mathbf{#1}}x \\ {\\mapsto}\\ \\frac{1}{x} + 3 \\, \\cos\\left(3 \\, x\\right) - 2 \\, e^{\\left(-2 \\, x\\right)}$$"
      ],
      "text/plain": [
       "x |--> 1/x + 3*cos(3*x) - 2*e^(-2*x)"
      ]
     },
     "metadata": {},
     "output_type": "display_data"
    },
    {
     "data": {
      "text/html": [
       "<html><script type=\"math/tex; mode=display\">\\newcommand{\\Bold}[1]{\\mathbf{#1}}x \\ {\\mapsto}\\ -\\frac{1}{x^{2}} + 4 \\, e^{\\left(-2 \\, x\\right)} - 9 \\, \\sin\\left(3 \\, x\\right)</script></html>"
      ],
      "text/latex": [
       "$$\\newcommand{\\Bold}[1]{\\mathbf{#1}}x \\ {\\mapsto}\\ -\\frac{1}{x^{2}} + 4 \\, e^{\\left(-2 \\, x\\right)} - 9 \\, \\sin\\left(3 \\, x\\right)$$"
      ],
      "text/plain": [
       "x |--> -1/x^2 + 4*e^(-2*x) - 9*sin(3*x)"
      ]
     },
     "metadata": {},
     "output_type": "display_data"
    },
    {
     "data": {
      "text/html": [
       "<html><script type=\"math/tex; mode=display\">\\newcommand{\\Bold}[1]{\\mathbf{#1}}x \\ {\\mapsto}\\ \\frac{2}{x^{3}} - 27 \\, \\cos\\left(3 \\, x\\right) - 8 \\, e^{\\left(-2 \\, x\\right)}</script></html>"
      ],
      "text/latex": [
       "$$\\newcommand{\\Bold}[1]{\\mathbf{#1}}x \\ {\\mapsto}\\ \\frac{2}{x^{3}} - 27 \\, \\cos\\left(3 \\, x\\right) - 8 \\, e^{\\left(-2 \\, x\\right)}$$"
      ],
      "text/plain": [
       "x |--> 2/x^3 - 27*cos(3*x) - 8*e^(-2*x)"
      ]
     },
     "metadata": {},
     "output_type": "display_data"
    },
    {
     "data": {
      "text/html": [
       "<html><script type=\"math/tex; mode=display\">\\newcommand{\\Bold}[1]{\\mathbf{#1}}x \\ {\\mapsto}\\ -\\frac{6}{x^{4}} + 16 \\, e^{\\left(-2 \\, x\\right)} + 81 \\, \\sin\\left(3 \\, x\\right)</script></html>"
      ],
      "text/latex": [
       "$$\\newcommand{\\Bold}[1]{\\mathbf{#1}}x \\ {\\mapsto}\\ -\\frac{6}{x^{4}} + 16 \\, e^{\\left(-2 \\, x\\right)} + 81 \\, \\sin\\left(3 \\, x\\right)$$"
      ],
      "text/plain": [
       "x |--> -6/x^4 + 16*e^(-2*x) + 81*sin(3*x)"
      ]
     },
     "metadata": {},
     "output_type": "display_data"
    }
   ],
   "source": [
    "f(x)=sin(3*x)+exp(-2*x)+ln(7*x)\n",
    "show(f(x))\n",
    "show(f.diff(x))\n",
    "show(f.diff(2))\n",
    "show(f.diff(3))\n",
    "show(f.diff(4))"
   ]
  },
  {
   "cell_type": "markdown",
   "metadata": {},
   "source": [
    "# Exercise 4.4"
   ]
  },
  {
   "cell_type": "markdown",
   "metadata": {},
   "source": [
    "# Find the dy/dx for the implict function 2*(x^2+y^2)^2=25*(x^2-y^2)"
   ]
  },
  {
   "cell_type": "code",
   "execution_count": 52,
   "metadata": {},
   "outputs": [
    {
     "data": {
      "text/html": [
       "<html><script type=\"math/tex; mode=display\">\\newcommand{\\Bold}[1]{\\mathbf{#1}}2 \\, {\\left(x^{2} + y^{2}\\right)}^{2} - 25 \\, x^{2} + 25 \\, y^{2}</script></html>"
      ],
      "text/latex": [
       "$$\\newcommand{\\Bold}[1]{\\mathbf{#1}}2 \\, {\\left(x^{2} + y^{2}\\right)}^{2} - 25 \\, x^{2} + 25 \\, y^{2}$$"
      ],
      "text/plain": [
       "2*(x^2 + y^2)^2 - 25*x^2 + 25*y^2"
      ]
     },
     "metadata": {},
     "output_type": "display_data"
    },
    {
     "data": {
      "text/html": [
       "<html><script type=\"math/tex; mode=display\">\\newcommand{\\Bold}[1]{\\mathbf{#1}}-\\frac{4 \\, {\\left(x^{2} + y^{2}\\right)} x - 25 \\, x}{4 \\, {\\left(x^{2} + y^{2}\\right)} y + 25 \\, y}</script></html>"
      ],
      "text/latex": [
       "$$\\newcommand{\\Bold}[1]{\\mathbf{#1}}-\\frac{4 \\, {\\left(x^{2} + y^{2}\\right)} x - 25 \\, x}{4 \\, {\\left(x^{2} + y^{2}\\right)} y + 25 \\, y}$$"
      ],
      "text/plain": [
       "-(4*(x^2 + y^2)*x - 25*x)/(4*(x^2 + y^2)*y + 25*y)"
      ]
     },
     "metadata": {},
     "output_type": "display_data"
    }
   ],
   "source": [
    "var('x,y')\n",
    "f(x,y)=(2*(x^2+y^2)^2)-(25*(x^2-y^2))\n",
    "show(f(x,y))\n",
    "fy=f.diff(y)\n",
    "fx=f.diff(x)\n",
    "show(-fx(x,y)/fy(x,y))\n"
   ]
  },
  {
   "cell_type": "markdown",
   "metadata": {},
   "source": [
    "# Find the dy/dx for the implict function y^2=x^3(2-x)"
   ]
  },
  {
   "cell_type": "code",
   "execution_count": 57,
   "metadata": {},
   "outputs": [
    {
     "data": {
      "text/html": [
       "<html><script type=\"math/tex; mode=display\">\\newcommand{\\Bold}[1]{\\mathbf{#1}}{\\left(x - 2\\right)} x^{3} + y^{2}</script></html>"
      ],
      "text/latex": [
       "$$\\newcommand{\\Bold}[1]{\\mathbf{#1}}{\\left(x - 2\\right)} x^{3} + y^{2}$$"
      ],
      "text/plain": [
       "(x - 2)*x^3 + y^2"
      ]
     },
     "metadata": {},
     "output_type": "display_data"
    },
    {
     "data": {
      "text/html": [
       "<html><script type=\"math/tex; mode=display\">\\newcommand{\\Bold}[1]{\\mathbf{#1}}-\\frac{3 \\, {\\left(x - 2\\right)} x^{2} + x^{3}}{2 \\, y}</script></html>"
      ],
      "text/latex": [
       "$$\\newcommand{\\Bold}[1]{\\mathbf{#1}}-\\frac{3 \\, {\\left(x - 2\\right)} x^{2} + x^{3}}{2 \\, y}$$"
      ],
      "text/plain": [
       "-1/2*(3*(x - 2)*x^2 + x^3)/y"
      ]
     },
     "metadata": {},
     "output_type": "display_data"
    }
   ],
   "source": [
    "var('x,y')\n",
    "f(x,y)=y^2-(x^3)*(2-x)\n",
    "show(f(x,y))\n",
    "fy=f.diff(y)\n",
    "fx=f.diff(x)\n",
    "show(-fx(x,y)/fy(x,y))"
   ]
  },
  {
   "cell_type": "markdown",
   "metadata": {},
   "source": [
    "# Exercise 4.5"
   ]
  },
  {
   "cell_type": "markdown",
   "metadata": {},
   "source": [
    "# Find the local maximum and local minimum of f(x)=(x^4)*exp(-x)"
   ]
  },
  {
   "cell_type": "code",
   "execution_count": 66,
   "metadata": {},
   "outputs": [
    {
     "data": {
      "text/html": [
       "<html><script type=\"math/tex; mode=display\">\\newcommand{\\Bold}[1]{\\mathbf{#1}}x^{4} e^{\\left(-x\\right)}</script></html>"
      ],
      "text/latex": [
       "$$\\newcommand{\\Bold}[1]{\\mathbf{#1}}x^{4} e^{\\left(-x\\right)}$$"
      ],
      "text/plain": [
       "x^4*e^(-x)"
      ]
     },
     "metadata": {},
     "output_type": "display_data"
    },
    {
     "data": {
      "image/png": "[encoded data removed]",
      "text/plain": [
       "Graphics object consisting of 1 graphics primitive"
      ]
     },
     "execution_count": 66,
     "metadata": {},
     "output_type": "execute_result"
    }
   ],
   "source": [
    " f(x)=(x^4)*exp(-x)\n",
    "show(f(x,y))\n",
    "plot(f(x))\n"
   ]
  },
  {
   "cell_type": "code",
   "execution_count": 78,
   "metadata": {},
   "outputs": [
    {
     "data": {
      "text/plain": [
       "(0.3678794094972896, 0.9999999713002414)"
      ]
     },
     "execution_count": 78,
     "metadata": {},
     "output_type": "execute_result"
    }
   ],
   "source": [
    "f.find_local_maximum(0,1)"
   ]
  },
  {
   "cell_type": "code",
   "execution_count": 77,
   "metadata": {},
   "outputs": [
    {
     "data": {
      "text/plain": [
       "(1.2490366931150754e-33, 5.9448896812376e-09)"
      ]
     },
     "execution_count": 77,
     "metadata": {},
     "output_type": "execute_result"
    }
   ],
   "source": [
    "f.find_local_minimum(0,1)"
   ]
  },
  {
   "cell_type": "markdown",
   "metadata": {},
   "source": [
    "##  The power needed to propel an airplane forward at velocity is p=Av^3 +BL^2/v\n",
    "## where and are positive constants specific to the particular aircraft and L is the lift, the upward force supporting\n",
    "## the weight of the plane. Find the speed that minimizes the required power."
   ]
  },
  {
   "cell_type": "code",
   "execution_count": 1,
   "metadata": {},
   "outputs": [
    {
     "data": {
      "text/html": [
       "<html><script type=\"math/tex; mode=display\">\\newcommand{\\Bold}[1]{\\mathbf{#1}}\\left[v = i \\, \\left(\\frac{1}{3}\\right)^{\\frac{1}{4}} \\sqrt{L} \\left(\\frac{B}{A}\\right)^{\\frac{1}{4}}, v = -\\left(\\frac{1}{3}\\right)^{\\frac{1}{4}} \\sqrt{L} \\left(\\frac{B}{A}\\right)^{\\frac{1}{4}}, v = -i \\, \\left(\\frac{1}{3}\\right)^{\\frac{1}{4}} \\sqrt{L} \\left(\\frac{B}{A}\\right)^{\\frac{1}{4}}, v = \\left(\\frac{1}{3}\\right)^{\\frac{1}{4}} \\sqrt{L} \\left(\\frac{B}{A}\\right)^{\\frac{1}{4}}\\right]</script></html>"
      ],
      "text/latex": [
       "$$\\newcommand{\\Bold}[1]{\\mathbf{#1}}\\left[v = i \\, \\left(\\frac{1}{3}\\right)^{\\frac{1}{4}} \\sqrt{L} \\left(\\frac{B}{A}\\right)^{\\frac{1}{4}}, v = -\\left(\\frac{1}{3}\\right)^{\\frac{1}{4}} \\sqrt{L} \\left(\\frac{B}{A}\\right)^{\\frac{1}{4}}, v = -i \\, \\left(\\frac{1}{3}\\right)^{\\frac{1}{4}} \\sqrt{L} \\left(\\frac{B}{A}\\right)^{\\frac{1}{4}}, v = \\left(\\frac{1}{3}\\right)^{\\frac{1}{4}} \\sqrt{L} \\left(\\frac{B}{A}\\right)^{\\frac{1}{4}}\\right]$$"
      ],
      "text/plain": [
       "[v == I*(1/3)^(1/4)*sqrt(L)*(B/A)^(1/4), v == -(1/3)^(1/4)*sqrt(L)*(B/A)^(1/4), v == -I*(1/3)^(1/4)*sqrt(L)*(B/A)^(1/4), v == (1/3)^(1/4)*sqrt(L)*(B/A)^(1/4)]"
      ]
     },
     "metadata": {},
     "output_type": "display_data"
    }
   ],
   "source": [
    "var('v A B L')\n",
    "P = A*v^3 + B*L^2/v\n",
    "dP_dv = diff(P, v)\n",
    "critical_points = solve(dP_dv == 0, v)\n",
    "show(critical_points)\n"
   ]
  }
 ],
 "metadata": {
  "kernelspec": {
   "display_name": "SageMath 9.3",
   "language": "sage",
   "name": "sagemath"
  },
  "language_info": {
   "codemirror_mode": {
    "name": "ipython",
    "version": 3
   },
   "file_extension": ".py",
   "mimetype": "text/x-python",
   "name": "python",
   "nbconvert_exporter": "python",
   "pygments_lexer": "ipython3",
   "version": "3.7.10"
  }
 },
 "nbformat": 4,
 "nbformat_minor": 4
}
