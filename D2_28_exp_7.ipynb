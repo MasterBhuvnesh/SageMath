{
 "cells": [
  {
   "cell_type": "markdown",
   "metadata": {},
   "source": [
    "# SHRI RAMDEOBABA COLLEGE OF ENGINEERING AND MANAGEMENT\n",
    "### Department of Mathematics\n",
    "### Name:-BHUVNESH VERMA\n",
    "### Batch:- D2\n",
    "### Roll no. : 28\n",
    "### Section:- D\n",
    "### Date:- 05/03/2024   \n",
    "### Experiment no:- 7\n",
    "### Aim :- Basic of Linear Algebra"
   ]
  },
  {
   "cell_type": "code",
   "execution_count": 1,
   "metadata": {},
   "outputs": [
    {
     "data": {
      "text/html": [
       "<html><script type=\"math/tex; mode=display\">\\newcommand{\\Bold}[1]{\\mathbf{#1}}\\verb|A=| \\left(\\begin{array}{rrr}\n",
       "3 & 6 & 9 \\\\\n",
       "4 & 7 & 10 \\\\\n",
       "5 & 8 & 11\n",
       "\\end{array}\\right)</script></html>"
      ],
      "text/latex": [
       "$$\\newcommand{\\Bold}[1]{\\mathbf{#1}}\\verb|A=| \\left(\\begin{array}{rrr}\n",
       "3 & 6 & 9 \\\\\n",
       "4 & 7 & 10 \\\\\n",
       "5 & 8 & 11\n",
       "\\end{array}\\right)$$"
      ],
      "text/plain": [
       "'A=' [ 3  6  9]\n",
       "[ 4  7 10]\n",
       "[ 5  8 11]"
      ]
     },
     "metadata": {},
     "output_type": "display_data"
    }
   ],
   "source": [
    "A=matrix([\n",
    "    [3,6,9],\n",
    "    [4,7,10],\n",
    "    [5,8,11]\n",
    "])\n",
    "show('A=',A)"
   ]
  },
  {
   "cell_type": "code",
   "execution_count": 2,
   "metadata": {},
   "outputs": [
    {
     "data": {
      "text/html": [
       "<html><script type=\"math/tex; mode=display\">\\newcommand{\\Bold}[1]{\\mathbf{#1}}\\left(\\begin{array}{rrr}\n",
       "1 & 2 & 3 \\\\\n",
       "4 & 5 & 6 \\\\\n",
       "7 & 8 & 9\n",
       "\\end{array}\\right)</script></html>"
      ],
      "text/latex": [
       "$$\\newcommand{\\Bold}[1]{\\mathbf{#1}}\\left(\\begin{array}{rrr}\n",
       "1 & 2 & 3 \\\\\n",
       "4 & 5 & 6 \\\\\n",
       "7 & 8 & 9\n",
       "\\end{array}\\right)$$"
      ],
      "text/plain": [
       "[1 2 3]\n",
       "[4 5 6]\n",
       "[7 8 9]"
      ]
     },
     "metadata": {},
     "output_type": "display_data"
    }
   ],
   "source": [
    "show(matrix(3,3,[1,2,3,4,5,6,7,8,9]))"
   ]
  },
  {
   "cell_type": "code",
   "execution_count": 3,
   "metadata": {},
   "outputs": [
    {
     "data": {
      "text/html": [
       "<html><script type=\"math/tex; mode=display\">\\newcommand{\\Bold}[1]{\\mathbf{#1}}\\left(\\begin{array}{rrr}\n",
       "1 & 2 & 3 \\\\\n",
       "4 & 5 & 6 \\\\\n",
       "7 & 8 & 9\n",
       "\\end{array}\\right)</script></html>"
      ],
      "text/latex": [
       "$$\\newcommand{\\Bold}[1]{\\mathbf{#1}}\\left(\\begin{array}{rrr}\n",
       "1 & 2 & 3 \\\\\n",
       "4 & 5 & 6 \\\\\n",
       "7 & 8 & 9\n",
       "\\end{array}\\right)$$"
      ],
      "text/plain": [
       "[1 2 3]\n",
       "[4 5 6]\n",
       "[7 8 9]"
      ]
     },
     "metadata": {},
     "output_type": "display_data"
    }
   ],
   "source": [
    "show(matrix(ZZ,3,3,[1,2,3,4,5,6,7,8,9]))"
   ]
  },
  {
   "cell_type": "code",
   "execution_count": 4,
   "metadata": {},
   "outputs": [
    {
     "data": {
      "text/html": [
       "<html><script type=\"math/tex; mode=display\">\\newcommand{\\Bold}[1]{\\mathbf{#1}}\\left(\\begin{array}{rrr}\n",
       "1.00000000000000 & 1.41421356237310 & 3.00000000000000 \\\\\n",
       "4.00000000000000 & 5.00000000000000 & 6.00000000000000 \\\\\n",
       "7.00000000000000 & 8.00000000000000 & 9.00000000000000\n",
       "\\end{array}\\right)</script></html>"
      ],
      "text/latex": [
       "$$\\newcommand{\\Bold}[1]{\\mathbf{#1}}\\left(\\begin{array}{rrr}\n",
       "1.00000000000000 & 1.41421356237310 & 3.00000000000000 \\\\\n",
       "4.00000000000000 & 5.00000000000000 & 6.00000000000000 \\\\\n",
       "7.00000000000000 & 8.00000000000000 & 9.00000000000000\n",
       "\\end{array}\\right)$$"
      ],
      "text/plain": [
       "[1.00000000000000 1.41421356237310 3.00000000000000]\n",
       "[4.00000000000000 5.00000000000000 6.00000000000000]\n",
       "[7.00000000000000 8.00000000000000 9.00000000000000]"
      ]
     },
     "metadata": {},
     "output_type": "display_data"
    }
   ],
   "source": [
    "show(matrix(RR,3,3,[1,2^(1/2),3,4,5,6,7,8,9]))"
   ]
  },
  {
   "cell_type": "code",
   "execution_count": 5,
   "metadata": {},
   "outputs": [
    {
     "data": {
      "text/html": [
       "<html><script type=\"math/tex; mode=display\">\\newcommand{\\Bold}[1]{\\mathbf{#1}}\\verb|P+Q=| \\left(\\begin{array}{rrr}\n",
       "9 & 7 & 11 \\\\\n",
       "12 & 13 & 7\n",
       "\\end{array}\\right)</script></html>"
      ],
      "text/latex": [
       "$$\\newcommand{\\Bold}[1]{\\mathbf{#1}}\\verb|P+Q=| \\left(\\begin{array}{rrr}\n",
       "9 & 7 & 11 \\\\\n",
       "12 & 13 & 7\n",
       "\\end{array}\\right)$$"
      ],
      "text/plain": [
       "'P+Q=' [ 9  7 11]\n",
       "[12 13  7]"
      ]
     },
     "metadata": {},
     "output_type": "display_data"
    },
    {
     "data": {
      "text/html": [
       "<html><script type=\"math/tex; mode=display\">\\newcommand{\\Bold}[1]{\\mathbf{#1}}\\verb|P-Q=| \\left(\\begin{array}{rrr}\n",
       "7 & 3 & 1 \\\\\n",
       "6 & 1 & -1\n",
       "\\end{array}\\right)</script></html>"
      ],
      "text/latex": [
       "$$\\newcommand{\\Bold}[1]{\\mathbf{#1}}\\verb|P-Q=| \\left(\\begin{array}{rrr}\n",
       "7 & 3 & 1 \\\\\n",
       "6 & 1 & -1\n",
       "\\end{array}\\right)$$"
      ],
      "text/plain": [
       "'P-Q=' [ 7  3  1]\n",
       "[ 6  1 -1]"
      ]
     },
     "metadata": {},
     "output_type": "display_data"
    },
    {
     "data": {
      "text/html": [
       "<html><script type=\"math/tex; mode=display\">\\newcommand{\\Bold}[1]{\\mathbf{#1}}\\verb|Q|\\phantom{\\verb!x!}\\verb|transpose=| \\left(\\begin{array}{rr}\n",
       "1 & 3 \\\\\n",
       "2 & 6 \\\\\n",
       "5 & 4\n",
       "\\end{array}\\right)</script></html>"
      ],
      "text/latex": [
       "$$\\newcommand{\\Bold}[1]{\\mathbf{#1}}\\verb|Q|\\phantom{\\verb!x!}\\verb|transpose=| \\left(\\begin{array}{rr}\n",
       "1 & 3 \\\\\n",
       "2 & 6 \\\\\n",
       "5 & 4\n",
       "\\end{array}\\right)$$"
      ],
      "text/plain": [
       "'Q transpose=' [1 3]\n",
       "[2 6]\n",
       "[5 4]"
      ]
     },
     "metadata": {},
     "output_type": "display_data"
    },
    {
     "data": {
      "text/html": [
       "<html><script type=\"math/tex; mode=display\">\\newcommand{\\Bold}[1]{\\mathbf{#1}}\\verb|P|\\phantom{\\verb!x!}\\verb|Q|\\phantom{\\verb!x!}\\verb|transpose=| \\left(\\begin{array}{rr}\n",
       "48 & 78 \\\\\n",
       "38 & 81\n",
       "\\end{array}\\right)</script></html>"
      ],
      "text/latex": [
       "$$\\newcommand{\\Bold}[1]{\\mathbf{#1}}\\verb|P|\\phantom{\\verb!x!}\\verb|Q|\\phantom{\\verb!x!}\\verb|transpose=| \\left(\\begin{array}{rr}\n",
       "48 & 78 \\\\\n",
       "38 & 81\n",
       "\\end{array}\\right)$$"
      ],
      "text/plain": [
       "'P Q transpose=' [48 78]\n",
       "[38 81]"
      ]
     },
     "metadata": {},
     "output_type": "display_data"
    }
   ],
   "source": [
    "P=matrix(2,3,[8,5,6,9,7,3])\n",
    "Q=matrix(2,3,[1,2,5,3,6,4])\n",
    "show('P+Q=',P+Q)\n",
    "show('P-Q=',P-Q)\n",
    "show('Q transpose=',Q.transpose())\n",
    "show('P Q transpose=',P*Q.transpose())"
   ]
  },
  {
   "cell_type": "code",
   "execution_count": 6,
   "metadata": {},
   "outputs": [
    {
     "data": {
      "text/plain": [
       "0"
      ]
     },
     "execution_count": 6,
     "metadata": {},
     "output_type": "execute_result"
    }
   ],
   "source": [
    "P=matrix([\n",
    "    [3,6,9],\n",
    "    [4,7,10],\n",
    "    [5,8,11]\n",
    "])\n",
    "P.det()"
   ]
  },
  {
   "cell_type": "code",
   "execution_count": 7,
   "metadata": {},
   "outputs": [
    {
     "data": {
      "text/plain": [
       "[ 3  4  5]\n",
       "[ 6  7  8]\n",
       "[ 9 10 11]"
      ]
     },
     "execution_count": 7,
     "metadata": {},
     "output_type": "execute_result"
    }
   ],
   "source": [
    "P.transpose()"
   ]
  },
  {
   "cell_type": "code",
   "execution_count": 8,
   "metadata": {},
   "outputs": [],
   "source": [
    "P=matrix([\n",
    "    [3,6,9],\n",
    "    [4,7,10],\n",
    "    [5,8,11]\n",
    "])\n"
   ]
  },
  {
   "cell_type": "code",
   "execution_count": 9,
   "metadata": {},
   "outputs": [],
   "source": [
    "R=matrix(2,3,[8,5,6,9,7,3])"
   ]
  },
  {
   "cell_type": "code",
   "execution_count": 10,
   "metadata": {},
   "outputs": [
    {
     "data": {
      "text/plain": [
       "[8 9]\n",
       "[5 7]\n",
       "[6 3]"
      ]
     },
     "execution_count": 10,
     "metadata": {},
     "output_type": "execute_result"
    }
   ],
   "source": [
    "R.transpose()"
   ]
  },
  {
   "cell_type": "code",
   "execution_count": 11,
   "metadata": {},
   "outputs": [],
   "source": [
    "R=matrix(2,3,[8,5,6,9,7,3])"
   ]
  },
  {
   "cell_type": "code",
   "execution_count": 12,
   "metadata": {},
   "outputs": [
    {
     "data": {
      "text/html": [
       "<html><script type=\"math/tex; mode=display\">\\newcommand{\\Bold}[1]{\\mathbf{#1}}\\left(\\begin{array}{rrr}\n",
       "8 & 5 & 6 \\\\\n",
       "9 & 7 & 3\n",
       "\\end{array}\\right)</script></html>"
      ],
      "text/latex": [
       "$$\\newcommand{\\Bold}[1]{\\mathbf{#1}}\\left(\\begin{array}{rrr}\n",
       "8 & 5 & 6 \\\\\n",
       "9 & 7 & 3\n",
       "\\end{array}\\right)$$"
      ],
      "text/plain": [
       "[8 5 6]\n",
       "[9 7 3]"
      ]
     },
     "metadata": {},
     "output_type": "display_data"
    }
   ],
   "source": [
    "show(R)"
   ]
  },
  {
   "cell_type": "code",
   "execution_count": 13,
   "metadata": {},
   "outputs": [
    {
     "data": {
      "text/html": [
       "<html><script type=\"math/tex; mode=display\">\\newcommand{\\Bold}[1]{\\mathbf{#1}}\\verb|D=| \\left(\\begin{array}{rrr}\n",
       "1 & z & -y \\\\\n",
       "-z & 1 & x \\\\\n",
       "y & -z & 1\n",
       "\\end{array}\\right)</script></html>"
      ],
      "text/latex": [
       "$$\\newcommand{\\Bold}[1]{\\mathbf{#1}}\\verb|D=| \\left(\\begin{array}{rrr}\n",
       "1 & z & -y \\\\\n",
       "-z & 1 & x \\\\\n",
       "y & -z & 1\n",
       "\\end{array}\\right)$$"
      ],
      "text/plain": [
       "'D=' [ 1  z -y]\n",
       "[-z  1  x]\n",
       "[ y -z  1]"
      ]
     },
     "metadata": {},
     "output_type": "display_data"
    }
   ],
   "source": [
    "var('x,y,z')\n",
    "D=matrix(3,3,[1,z,-y,-z,1,x,y,-z,1])\n",
    "show('D=' ,D)"
   ]
  },
  {
   "cell_type": "code",
   "execution_count": 14,
   "metadata": {},
   "outputs": [
    {
     "data": {
      "text/html": [
       "<html><script type=\"math/tex; mode=display\">\\newcommand{\\Bold}[1]{\\mathbf{#1}}{\\left(x z + y\\right)} y - {\\left(y z - z\\right)} z + x z + 1</script></html>"
      ],
      "text/latex": [
       "$$\\newcommand{\\Bold}[1]{\\mathbf{#1}}{\\left(x z + y\\right)} y - {\\left(y z - z\\right)} z + x z + 1$$"
      ],
      "text/plain": [
       "(x*z + y)*y - (y*z - z)*z + x*z + 1"
      ]
     },
     "metadata": {},
     "output_type": "display_data"
    }
   ],
   "source": [
    "E=D.det()\n",
    "show(E)"
   ]
  },
  {
   "cell_type": "code",
   "execution_count": 15,
   "metadata": {},
   "outputs": [
    {
     "data": {
      "text/plain": [
       "-(y - 1)*z^2 + y^2 + (x*y + x)*z + 1"
      ]
     },
     "execution_count": 15,
     "metadata": {},
     "output_type": "execute_result"
    }
   ],
   "source": [
    "E.full_simplify()"
   ]
  },
  {
   "cell_type": "code",
   "execution_count": 16,
   "metadata": {},
   "outputs": [
    {
     "data": {
      "text/html": [
       "<html><script type=\"math/tex; mode=display\">\\newcommand{\\Bold}[1]{\\mathbf{#1}}\\left(\\begin{array}{rrr}\n",
       "-\\frac{{\\left(y - \\frac{{\\left(y z - x\\right)} z}{z^{2} + 1}\\right)} {\\left(y - \\frac{{\\left(y z + z\\right)} z}{z^{2} + 1}\\right)}}{y^{2} - \\frac{{\\left(y z - x\\right)} {\\left(y z + z\\right)}}{z^{2} + 1} + 1} - \\frac{z^{2}}{z^{2} + 1} + 1 & \\frac{{\\left(y z + z\\right)} {\\left(y - \\frac{{\\left(y z - x\\right)} z}{z^{2} + 1}\\right)}}{{\\left(y^{2} - \\frac{{\\left(y z - x\\right)} {\\left(y z + z\\right)}}{z^{2} + 1} + 1\\right)} {\\left(z^{2} + 1\\right)}} - \\frac{z}{z^{2} + 1} & \\frac{y - \\frac{{\\left(y z - x\\right)} z}{z^{2} + 1}}{y^{2} - \\frac{{\\left(y z - x\\right)} {\\left(y z + z\\right)}}{z^{2} + 1} + 1} \\\\\n",
       "-\\frac{{\\left(y z - x\\right)} {\\left(y - \\frac{{\\left(y z + z\\right)} z}{z^{2} + 1}\\right)}}{{\\left(y^{2} - \\frac{{\\left(y z - x\\right)} {\\left(y z + z\\right)}}{z^{2} + 1} + 1\\right)} {\\left(z^{2} + 1\\right)}} + \\frac{z}{z^{2} + 1} & \\frac{{\\left(y z - x\\right)} {\\left(y z + z\\right)}}{{\\left(y^{2} - \\frac{{\\left(y z - x\\right)} {\\left(y z + z\\right)}}{z^{2} + 1} + 1\\right)} {\\left(z^{2} + 1\\right)}^{2}} + \\frac{1}{z^{2} + 1} & \\frac{y z - x}{{\\left(y^{2} - \\frac{{\\left(y z - x\\right)} {\\left(y z + z\\right)}}{z^{2} + 1} + 1\\right)} {\\left(z^{2} + 1\\right)}} \\\\\n",
       "-\\frac{y - \\frac{{\\left(y z + z\\right)} z}{z^{2} + 1}}{y^{2} - \\frac{{\\left(y z - x\\right)} {\\left(y z + z\\right)}}{z^{2} + 1} + 1} & \\frac{y z + z}{{\\left(y^{2} - \\frac{{\\left(y z - x\\right)} {\\left(y z + z\\right)}}{z^{2} + 1} + 1\\right)} {\\left(z^{2} + 1\\right)}} & \\frac{1}{y^{2} - \\frac{{\\left(y z - x\\right)} {\\left(y z + z\\right)}}{z^{2} + 1} + 1}\n",
       "\\end{array}\\right)</script></html>"
      ],
      "text/latex": [
       "$$\\newcommand{\\Bold}[1]{\\mathbf{#1}}\\left(\\begin{array}{rrr}\n",
       "-\\frac{{\\left(y - \\frac{{\\left(y z - x\\right)} z}{z^{2} + 1}\\right)} {\\left(y - \\frac{{\\left(y z + z\\right)} z}{z^{2} + 1}\\right)}}{y^{2} - \\frac{{\\left(y z - x\\right)} {\\left(y z + z\\right)}}{z^{2} + 1} + 1} - \\frac{z^{2}}{z^{2} + 1} + 1 & \\frac{{\\left(y z + z\\right)} {\\left(y - \\frac{{\\left(y z - x\\right)} z}{z^{2} + 1}\\right)}}{{\\left(y^{2} - \\frac{{\\left(y z - x\\right)} {\\left(y z + z\\right)}}{z^{2} + 1} + 1\\right)} {\\left(z^{2} + 1\\right)}} - \\frac{z}{z^{2} + 1} & \\frac{y - \\frac{{\\left(y z - x\\right)} z}{z^{2} + 1}}{y^{2} - \\frac{{\\left(y z - x\\right)} {\\left(y z + z\\right)}}{z^{2} + 1} + 1} \\\\\n",
       "-\\frac{{\\left(y z - x\\right)} {\\left(y - \\frac{{\\left(y z + z\\right)} z}{z^{2} + 1}\\right)}}{{\\left(y^{2} - \\frac{{\\left(y z - x\\right)} {\\left(y z + z\\right)}}{z^{2} + 1} + 1\\right)} {\\left(z^{2} + 1\\right)}} + \\frac{z}{z^{2} + 1} & \\frac{{\\left(y z - x\\right)} {\\left(y z + z\\right)}}{{\\left(y^{2} - \\frac{{\\left(y z - x\\right)} {\\left(y z + z\\right)}}{z^{2} + 1} + 1\\right)} {\\left(z^{2} + 1\\right)}^{2}} + \\frac{1}{z^{2} + 1} & \\frac{y z - x}{{\\left(y^{2} - \\frac{{\\left(y z - x\\right)} {\\left(y z + z\\right)}}{z^{2} + 1} + 1\\right)} {\\left(z^{2} + 1\\right)}} \\\\\n",
       "-\\frac{y - \\frac{{\\left(y z + z\\right)} z}{z^{2} + 1}}{y^{2} - \\frac{{\\left(y z - x\\right)} {\\left(y z + z\\right)}}{z^{2} + 1} + 1} & \\frac{y z + z}{{\\left(y^{2} - \\frac{{\\left(y z - x\\right)} {\\left(y z + z\\right)}}{z^{2} + 1} + 1\\right)} {\\left(z^{2} + 1\\right)}} & \\frac{1}{y^{2} - \\frac{{\\left(y z - x\\right)} {\\left(y z + z\\right)}}{z^{2} + 1} + 1}\n",
       "\\end{array}\\right)$$"
      ],
      "text/plain": [
       "[-(y - (y*z - x)*z/(z^2 + 1))*(y - (y*z + z)*z/(z^2 + 1))/(y^2 - (y*z - x)*(y*z + z)/(z^2 + 1) + 1) - z^2/(z^2 + 1) + 1              (y*z + z)*(y - (y*z - x)*z/(z^2 + 1))/((y^2 - (y*z - x)*(y*z + z)/(z^2 + 1) + 1)*(z^2 + 1)) - z/(z^2 + 1)                                                  (y - (y*z - x)*z/(z^2 + 1))/(y^2 - (y*z - x)*(y*z + z)/(z^2 + 1) + 1)]\n",
       "[            -(y*z - x)*(y - (y*z + z)*z/(z^2 + 1))/((y^2 - (y*z - x)*(y*z + z)/(z^2 + 1) + 1)*(z^2 + 1)) + z/(z^2 + 1)                              (y*z - x)*(y*z + z)/((y^2 - (y*z - x)*(y*z + z)/(z^2 + 1) + 1)*(z^2 + 1)^2) + 1/(z^2 + 1)                                                        (y*z - x)/((y^2 - (y*z - x)*(y*z + z)/(z^2 + 1) + 1)*(z^2 + 1))]\n",
       "[                                                -(y - (y*z + z)*z/(z^2 + 1))/(y^2 - (y*z - x)*(y*z + z)/(z^2 + 1) + 1)                                                        (y*z + z)/((y^2 - (y*z - x)*(y*z + z)/(z^2 + 1) + 1)*(z^2 + 1))                                                                            1/(y^2 - (y*z - x)*(y*z + z)/(z^2 + 1) + 1)]"
      ]
     },
     "metadata": {},
     "output_type": "display_data"
    }
   ],
   "source": [
    "show(D.inverse())"
   ]
  },
  {
   "cell_type": "code",
   "execution_count": 17,
   "metadata": {},
   "outputs": [
    {
     "data": {
      "text/html": [
       "<html><script type=\"math/tex; mode=display\">\\newcommand{\\Bold}[1]{\\mathbf{#1}}\\left(\\begin{array}{rrr}\n",
       "0 & 0 & 0 \\\\\n",
       "0 & 0 & 1 \\\\\n",
       "0 & 0 & 0\n",
       "\\end{array}\\right)</script></html>"
      ],
      "text/latex": [
       "$$\\newcommand{\\Bold}[1]{\\mathbf{#1}}\\left(\\begin{array}{rrr}\n",
       "0 & 0 & 0 \\\\\n",
       "0 & 0 & 1 \\\\\n",
       "0 & 0 & 0\n",
       "\\end{array}\\right)$$"
      ],
      "text/plain": [
       "[0 0 0]\n",
       "[0 0 1]\n",
       "[0 0 0]"
      ]
     },
     "metadata": {},
     "output_type": "display_data"
    },
    {
     "data": {
      "text/html": [
       "<html><script type=\"math/tex; mode=display\">\\newcommand{\\Bold}[1]{\\mathbf{#1}}\\left(\\begin{array}{rrr}\n",
       "0 & 0 & -1 \\\\\n",
       "0 & 0 & 0 \\\\\n",
       "1 & 0 & 0\n",
       "\\end{array}\\right)</script></html>"
      ],
      "text/latex": [
       "$$\\newcommand{\\Bold}[1]{\\mathbf{#1}}\\left(\\begin{array}{rrr}\n",
       "0 & 0 & -1 \\\\\n",
       "0 & 0 & 0 \\\\\n",
       "1 & 0 & 0\n",
       "\\end{array}\\right)$$"
      ],
      "text/plain": [
       "[ 0  0 -1]\n",
       "[ 0  0  0]\n",
       "[ 1  0  0]"
      ]
     },
     "metadata": {},
     "output_type": "display_data"
    },
    {
     "data": {
      "text/html": [
       "<html><script type=\"math/tex; mode=display\">\\newcommand{\\Bold}[1]{\\mathbf{#1}}\\left(\\begin{array}{rrr}\n",
       "0 & 1 & 0 \\\\\n",
       "-1 & 0 & 0 \\\\\n",
       "0 & -1 & 0\n",
       "\\end{array}\\right)</script></html>"
      ],
      "text/latex": [
       "$$\\newcommand{\\Bold}[1]{\\mathbf{#1}}\\left(\\begin{array}{rrr}\n",
       "0 & 1 & 0 \\\\\n",
       "-1 & 0 & 0 \\\\\n",
       "0 & -1 & 0\n",
       "\\end{array}\\right)$$"
      ],
      "text/plain": [
       "[ 0  1  0]\n",
       "[-1  0  0]\n",
       "[ 0 -1  0]"
      ]
     },
     "metadata": {},
     "output_type": "display_data"
    }
   ],
   "source": [
    "show(diff(D,x))\n",
    "show(diff(D,y))\n",
    "show(diff(D,z))"
   ]
  },
  {
   "cell_type": "code",
   "execution_count": 18,
   "metadata": {},
   "outputs": [
    {
     "data": {
      "text/html": [
       "<html><script type=\"math/tex; mode=display\">\\newcommand{\\Bold}[1]{\\mathbf{#1}}\\verb|A=| \\left(\\begin{array}{rrr}\n",
       "3 & 6 & 9 \\\\\n",
       "4 & 7 & 10 \\\\\n",
       "5 & 8 & 11\n",
       "\\end{array}\\right)</script></html>"
      ],
      "text/latex": [
       "$$\\newcommand{\\Bold}[1]{\\mathbf{#1}}\\verb|A=| \\left(\\begin{array}{rrr}\n",
       "3 & 6 & 9 \\\\\n",
       "4 & 7 & 10 \\\\\n",
       "5 & 8 & 11\n",
       "\\end{array}\\right)$$"
      ],
      "text/plain": [
       "'A=' [ 3  6  9]\n",
       "[ 4  7 10]\n",
       "[ 5  8 11]"
      ]
     },
     "metadata": {},
     "output_type": "display_data"
    }
   ],
   "source": [
    "show('A=',A)"
   ]
  },
  {
   "cell_type": "code",
   "execution_count": 19,
   "metadata": {},
   "outputs": [
    {
     "data": {
      "text/plain": [
       "[3, 6, 9, 4, 7, 10, 5, 8, 11]"
      ]
     },
     "execution_count": 19,
     "metadata": {},
     "output_type": "execute_result"
    }
   ],
   "source": [
    "A.minors(1)"
   ]
  },
  {
   "cell_type": "code",
   "execution_count": 44,
   "metadata": {},
   "outputs": [
    {
     "data": {
      "text/plain": [
       "[-3, -6, -3, -6, -12, -6, -3, -6, -3]"
      ]
     },
     "execution_count": 44,
     "metadata": {},
     "output_type": "execute_result"
    }
   ],
   "source": [
    "A.minors(2)"
   ]
  },
  {
   "cell_type": "code",
   "execution_count": 45,
   "metadata": {},
   "outputs": [
    {
     "data": {
      "text/plain": [
       "[0]"
      ]
     },
     "execution_count": 45,
     "metadata": {},
     "output_type": "execute_result"
    }
   ],
   "source": [
    "A.minors(3)"
   ]
  },
  {
   "cell_type": "code",
   "execution_count": 46,
   "metadata": {},
   "outputs": [
    {
     "data": {
      "text/plain": [
       "True"
      ]
     },
     "execution_count": 46,
     "metadata": {},
     "output_type": "execute_result"
    }
   ],
   "source": [
    "A.minors(3)== [A.det()]"
   ]
  },
  {
   "cell_type": "code",
   "execution_count": 47,
   "metadata": {},
   "outputs": [
    {
     "data": {
      "text/plain": [
       "0"
      ]
     },
     "execution_count": 47,
     "metadata": {},
     "output_type": "execute_result"
    }
   ],
   "source": [
    "A.det()"
   ]
  },
  {
   "cell_type": "code",
   "execution_count": 48,
   "metadata": {},
   "outputs": [
    {
     "data": {
      "text/html": [
       "<html><script type=\"math/tex; mode=display\">\\newcommand{\\Bold}[1]{\\mathbf{#1}}\\verb|X=| \\left(\\begin{array}{rrrrrr}\n",
       "1 & 1 & 1 & 1 & 1 & 1 \\\\\n",
       "1 & 1 & 1 & 1 & 1 & 1 \\\\\n",
       "1 & 1 & 1 & 1 & 1 & 1 \\\\\n",
       "1 & 1 & 1 & 1 & 1 & 1 \\\\\n",
       "1 & 1 & 1 & 1 & 1 & 1\n",
       "\\end{array}\\right)</script></html>"
      ],
      "text/latex": [
       "$$\\newcommand{\\Bold}[1]{\\mathbf{#1}}\\verb|X=| \\left(\\begin{array}{rrrrrr}\n",
       "1 & 1 & 1 & 1 & 1 & 1 \\\\\n",
       "1 & 1 & 1 & 1 & 1 & 1 \\\\\n",
       "1 & 1 & 1 & 1 & 1 & 1 \\\\\n",
       "1 & 1 & 1 & 1 & 1 & 1 \\\\\n",
       "1 & 1 & 1 & 1 & 1 & 1\n",
       "\\end{array}\\right)$$"
      ],
      "text/plain": [
       "'X=' [1 1 1 1 1 1]\n",
       "[1 1 1 1 1 1]\n",
       "[1 1 1 1 1 1]\n",
       "[1 1 1 1 1 1]\n",
       "[1 1 1 1 1 1]"
      ]
     },
     "metadata": {},
     "output_type": "display_data"
    }
   ],
   "source": [
    "X=ones_matrix(5,6)\n",
    "show ('X=',X)"
   ]
  },
  {
   "cell_type": "code",
   "execution_count": 49,
   "metadata": {},
   "outputs": [
    {
     "data": {
      "text/plain": [
       "[  1   1   1   1   1   1]\n",
       "[  1   1   1   1   1   1]\n",
       "[  1   1   1 100   1   1]\n",
       "[  1   1   1   1   1   1]\n",
       "[  1   1   1   1   1   1]"
      ]
     },
     "execution_count": 49,
     "metadata": {},
     "output_type": "execute_result"
    }
   ],
   "source": [
    "X[2,3]=100\n",
    "\n",
    "X"
   ]
  },
  {
   "cell_type": "code",
   "execution_count": 59,
   "metadata": {},
   "outputs": [
    {
     "data": {
      "text/plain": [
       "[  1   1   1   1   1   1]\n",
       "[  1   1   1   1   1   1]\n",
       "[  1   1   1 100   1   1]\n",
       "[  1   1   1   1   1   1]\n",
       "[  1   1   1   1   1   1]"
      ]
     },
     "execution_count": 59,
     "metadata": {},
     "output_type": "execute_result"
    }
   ],
   "source": [
    "X[2:2]=100\n",
    "X"
   ]
  },
  {
   "cell_type": "code",
   "execution_count": 58,
   "metadata": {},
   "outputs": [
    {
     "data": {
      "text/html": [
       "<html><script type=\"math/tex; mode=display\">\\newcommand{\\Bold}[1]{\\mathbf{#1}}\\verb|Y=| \\left(\\begin{array}{rrrrrr}\n",
       "1 & 1 & 1 & 1 & 1 & 1 \\\\\n",
       "1 & 1 & 1 & 1 & 1 & 1 \\\\\n",
       "1 & 1 & 1 & 1 & 1 & 1 \\\\\n",
       "1 & 1 & 1 & 1 & 1 & 1 \\\\\n",
       "1 & 1 & 1 & 1 & 1 & 1\n",
       "\\end{array}\\right)</script></html>"
      ],
      "text/latex": [
       "$$\\newcommand{\\Bold}[1]{\\mathbf{#1}}\\verb|Y=| \\left(\\begin{array}{rrrrrr}\n",
       "1 & 1 & 1 & 1 & 1 & 1 \\\\\n",
       "1 & 1 & 1 & 1 & 1 & 1 \\\\\n",
       "1 & 1 & 1 & 1 & 1 & 1 \\\\\n",
       "1 & 1 & 1 & 1 & 1 & 1 \\\\\n",
       "1 & 1 & 1 & 1 & 1 & 1\n",
       "\\end{array}\\right)$$"
      ],
      "text/plain": [
       "'Y=' [1 1 1 1 1 1]\n",
       "[1 1 1 1 1 1]\n",
       "[1 1 1 1 1 1]\n",
       "[1 1 1 1 1 1]\n",
       "[1 1 1 1 1 1]"
      ]
     },
     "metadata": {},
     "output_type": "display_data"
    }
   ],
   "source": [
    "Y=ones_matrix(5,6)\n",
    "show ('Y=',Y)"
   ]
  },
  {
   "cell_type": "code",
   "execution_count": 52,
   "metadata": {},
   "outputs": [
    {
     "data": {
      "text/html": [
       "<html><script type=\"math/tex; mode=display\">\\newcommand{\\Bold}[1]{\\mathbf{#1}}\\left(\\begin{array}{rrrrrr}\n",
       "1 & 1 & 1 & 1 & 1 & 1 \\\\\n",
       "1 & 1 & 1 & 1 & 1 & 1 \\\\\n",
       "1 & 1 & 1 & 1 & 1 & 1 \\\\\n",
       "1 & 1 & 1 & 1 & 1 & 1 \\\\\n",
       "1 & 1 & 1 & 1 & 1 & 1\n",
       "\\end{array}\\right)</script></html>"
      ],
      "text/latex": [
       "$$\\newcommand{\\Bold}[1]{\\mathbf{#1}}\\left(\\begin{array}{rrrrrr}\n",
       "1 & 1 & 1 & 1 & 1 & 1 \\\\\n",
       "1 & 1 & 1 & 1 & 1 & 1 \\\\\n",
       "1 & 1 & 1 & 1 & 1 & 1 \\\\\n",
       "1 & 1 & 1 & 1 & 1 & 1 \\\\\n",
       "1 & 1 & 1 & 1 & 1 & 1\n",
       "\\end{array}\\right)$$"
      ],
      "text/plain": [
       "[1 1 1 1 1 1]\n",
       "[1 1 1 1 1 1]\n",
       "[1 1 1 1 1 1]\n",
       "[1 1 1 1 1 1]\n",
       "[1 1 1 1 1 1]"
      ]
     },
     "metadata": {},
     "output_type": "display_data"
    }
   ],
   "source": [
    "Y[2:3]=1\n",
    "show(Y)"
   ]
  },
  {
   "cell_type": "code",
   "execution_count": 69,
   "metadata": {},
   "outputs": [
    {
     "data": {
      "text/plain": [
       "[ 1  1  1  1  1  1]\n",
       "[ 1  1  1  1  1  1]\n",
       "[ 1  1  1  1  1  1]\n",
       "[ 1  1 55 55  1  1]\n",
       "[ 1  1 55 55  1  1]"
      ]
     },
     "execution_count": 69,
     "metadata": {},
     "output_type": "execute_result"
    }
   ],
   "source": [
    "Z=ones_matrix(5,6)\n",
    "Z[3:5,2:4]=55\n",
    "Z"
   ]
  },
  {
   "cell_type": "code",
   "execution_count": 70,
   "metadata": {},
   "outputs": [
    {
     "data": {
      "text/plain": [
       "[0 0]\n",
       "[0 0]\n",
       "[0 0]"
      ]
     },
     "execution_count": 70,
     "metadata": {},
     "output_type": "execute_result"
    }
   ],
   "source": [
    "zero_matrix(3,2)"
   ]
  },
  {
   "cell_type": "code",
   "execution_count": 71,
   "metadata": {},
   "outputs": [
    {
     "data": {
      "text/plain": [
       "[1 0]\n",
       "[0 1]"
      ]
     },
     "execution_count": 71,
     "metadata": {},
     "output_type": "execute_result"
    }
   ],
   "source": [
    "identity_matrix(2)"
   ]
  },
  {
   "cell_type": "code",
   "execution_count": 72,
   "metadata": {},
   "outputs": [
    {
     "data": {
      "text/plain": [
       "[50 56 52]\n",
       "[50 58 56]"
      ]
     },
     "execution_count": 72,
     "metadata": {},
     "output_type": "execute_result"
    }
   ],
   "source": [
    "random_matrix(ZZ,2,3, x=50 , y=60)"
   ]
  },
  {
   "cell_type": "code",
   "execution_count": 73,
   "metadata": {},
   "outputs": [
    {
     "data": {
      "text/html": [
       "<html><script type=\"math/tex; mode=display\">\\newcommand{\\Bold}[1]{\\mathbf{#1}}\\left(\\begin{array}{rrr}\n",
       "1 & 2 & 3 \\\\\n",
       "4 & 5 & 6 \\\\\n",
       "7 & 8 & 9\n",
       "\\end{array}\\right)</script></html>"
      ],
      "text/latex": [
       "$$\\newcommand{\\Bold}[1]{\\mathbf{#1}}\\left(\\begin{array}{rrr}\n",
       "1 & 2 & 3 \\\\\n",
       "4 & 5 & 6 \\\\\n",
       "7 & 8 & 9\n",
       "\\end{array}\\right)$$"
      ],
      "text/plain": [
       "[1 2 3]\n",
       "[4 5 6]\n",
       "[7 8 9]"
      ]
     },
     "metadata": {},
     "output_type": "display_data"
    }
   ],
   "source": [
    "T=matrix(3,3,[1,2,3,4,5,6,7,8,9])\n",
    "show(T)"
   ]
  },
  {
   "cell_type": "code",
   "execution_count": 74,
   "metadata": {},
   "outputs": [
    {
     "data": {
      "text/plain": [
       "(1, 2, 3)"
      ]
     },
     "execution_count": 74,
     "metadata": {},
     "output_type": "execute_result"
    }
   ],
   "source": [
    "T[0]"
   ]
  },
  {
   "cell_type": "code",
   "execution_count": 75,
   "metadata": {},
   "outputs": [
    {
     "data": {
      "text/plain": [
       "3"
      ]
     },
     "execution_count": 75,
     "metadata": {},
     "output_type": "execute_result"
    }
   ],
   "source": [
    "T[0,2]"
   ]
  },
  {
   "cell_type": "code",
   "execution_count": 76,
   "metadata": {},
   "outputs": [
    {
     "data": {
      "text/plain": [
       "2"
      ]
     },
     "execution_count": 76,
     "metadata": {},
     "output_type": "execute_result"
    }
   ],
   "source": [
    "T[0,1]"
   ]
  },
  {
   "cell_type": "code",
   "execution_count": 77,
   "metadata": {},
   "outputs": [
    {
     "data": {
      "text/plain": [
       "[1 2 3]"
      ]
     },
     "execution_count": 77,
     "metadata": {},
     "output_type": "execute_result"
    }
   ],
   "source": [
    "T[:1]"
   ]
  },
  {
   "cell_type": "code",
   "execution_count": 78,
   "metadata": {},
   "outputs": [
    {
     "data": {
      "text/plain": [
       "[4 5 6]\n",
       "[7 8 9]"
      ]
     },
     "execution_count": 78,
     "metadata": {},
     "output_type": "execute_result"
    }
   ],
   "source": [
    "T[1:]"
   ]
  },
  {
   "cell_type": "code",
   "execution_count": 79,
   "metadata": {},
   "outputs": [],
   "source": [
    "T[0:1]=100"
   ]
  },
  {
   "cell_type": "code",
   "execution_count": 80,
   "metadata": {},
   "outputs": [
    {
     "data": {
      "text/plain": [
       "[100 100 100]\n",
       "[  4   5   6]\n",
       "[  7   8   9]"
      ]
     },
     "execution_count": 80,
     "metadata": {},
     "output_type": "execute_result"
    }
   ],
   "source": [
    "T"
   ]
  },
  {
   "cell_type": "code",
   "execution_count": 97,
   "metadata": {},
   "outputs": [
    {
     "data": {
      "text/plain": [
       "[  1   1 100  50   1   1]\n",
       "[  1   1 100  50   1   1]\n",
       "[  1   1 100  50   1   1]\n",
       "[  1   1 100  50   1   1]\n",
       "[  1   1 100  50   1   1]"
      ]
     },
     "execution_count": 97,
     "metadata": {},
     "output_type": "execute_result"
    }
   ],
   "source": [
    "Z=ones_matrix(5,6)\n",
    "Z[:,2:3]=100 \n",
    "Z[:,3:4]=50\n",
    "Z"
   ]
  },
  {
   "cell_type": "code",
   "execution_count": 98,
   "metadata": {},
   "outputs": [
    {
     "data": {
      "text/plain": [
       "[[x == (21/19), y == (-16/19), z == (-5/19)]]"
      ]
     },
     "execution_count": 98,
     "metadata": {},
     "output_type": "execute_result"
    }
   ],
   "source": [
    "x, y, z = var('x, y, z')\n",
    "solve([x-2*y+3*z == 2, 2*x-3*z == 3,x+y+z == 0], x, y, z)"
   ]
  },
  {
   "cell_type": "code",
   "execution_count": 20,
   "metadata": {},
   "outputs": [
    {
     "data": {
      "text/html": [
       "<html><script type=\"math/tex; mode=display\">\\newcommand{\\Bold}[1]{\\mathbf{#1}}\\verb|A=| \\left(\\begin{array}{rrr}\n",
       "1 & -2 & 3 \\\\\n",
       "2 & 0 & -3 \\\\\n",
       "1 & 1 & 1\n",
       "\\end{array}\\right) \\verb|B=| \\left(\\begin{array}{r}\n",
       "2 \\\\\n",
       "3 \\\\\n",
       "0\n",
       "\\end{array}\\right)</script></html>"
      ],
      "text/latex": [
       "$$\\newcommand{\\Bold}[1]{\\mathbf{#1}}\\verb|A=| \\left(\\begin{array}{rrr}\n",
       "1 & -2 & 3 \\\\\n",
       "2 & 0 & -3 \\\\\n",
       "1 & 1 & 1\n",
       "\\end{array}\\right) \\verb|B=| \\left(\\begin{array}{r}\n",
       "2 \\\\\n",
       "3 \\\\\n",
       "0\n",
       "\\end{array}\\right)$$"
      ],
      "text/plain": [
       "'A= ' [ 1 -2  3]\n",
       "[ 2  0 -3]\n",
       "[ 1  1  1] 'B= ' [2]\n",
       "[3]\n",
       "[0]"
      ]
     },
     "metadata": {},
     "output_type": "display_data"
    }
   ],
   "source": [
    "A=matrix([[1,-2,3], [2,0,-3] ,[1,1,1]])\n",
    "\n",
    "B=vector([2,3,0])\n",
    "show('A= ', A , 'B= ', B.column())"
   ]
  },
  {
   "cell_type": "code",
   "execution_count": 21,
   "metadata": {},
   "outputs": [
    {
     "data": {
      "text/html": [
       "<html><script type=\"math/tex; mode=display\">\\newcommand{\\Bold}[1]{\\mathbf{#1}}\\verb|C=| \\left(\\begin{array}{rrrr}\n",
       "1 & -2 & 3 & 2 \\\\\n",
       "2 & 0 & -3 & 3 \\\\\n",
       "1 & 1 & 1 & 0\n",
       "\\end{array}\\right)</script></html>"
      ],
      "text/latex": [
       "$$\\newcommand{\\Bold}[1]{\\mathbf{#1}}\\verb|C=| \\left(\\begin{array}{rrrr}\n",
       "1 & -2 & 3 & 2 \\\\\n",
       "2 & 0 & -3 & 3 \\\\\n",
       "1 & 1 & 1 & 0\n",
       "\\end{array}\\right)$$"
      ],
      "text/plain": [
       "'C=' [ 1 -2  3  2]\n",
       "[ 2  0 -3  3]\n",
       "[ 1  1  1  0]"
      ]
     },
     "metadata": {},
     "output_type": "display_data"
    }
   ],
   "source": [
    "C=A.augment(B)\n",
    "show('C=',C)"
   ]
  },
  {
   "cell_type": "code",
   "execution_count": 22,
   "metadata": {},
   "outputs": [
    {
     "data": {
      "text/plain": [
       "True"
      ]
     },
     "execution_count": 22,
     "metadata": {},
     "output_type": "execute_result"
    }
   ],
   "source": [
    "rank(A)==rank(C)"
   ]
  },
  {
   "cell_type": "code",
   "execution_count": 23,
   "metadata": {},
   "outputs": [
    {
     "data": {
      "text/plain": [
       "[]"
      ]
     },
     "execution_count": 23,
     "metadata": {},
     "output_type": "execute_result"
    }
   ],
   "source": [
    "solve([2*x-y+z == 4, 3*x-y+z == 6,4*x-y+2*z == 7 , -x+y-z==9], x, y, z)\n"
   ]
  },
  {
   "cell_type": "code",
   "execution_count": 24,
   "metadata": {},
   "outputs": [
    {
     "data": {
      "text/html": [
       "<html><script type=\"math/tex; mode=display\">\\newcommand{\\Bold}[1]{\\mathbf{#1}}\\verb|A=| \\left(\\begin{array}{rrr}\n",
       "2 & -1 & 1 \\\\\n",
       "3 & -1 & 1 \\\\\n",
       "4 & -1 & 2 \\\\\n",
       "-1 & 1 & -1\n",
       "\\end{array}\\right) \\verb|B=| \\left(\\begin{array}{r}\n",
       "4 \\\\\n",
       "6 \\\\\n",
       "7 \\\\\n",
       "9\n",
       "\\end{array}\\right)</script></html>"
      ],
      "text/latex": [
       "$$\\newcommand{\\Bold}[1]{\\mathbf{#1}}\\verb|A=| \\left(\\begin{array}{rrr}\n",
       "2 & -1 & 1 \\\\\n",
       "3 & -1 & 1 \\\\\n",
       "4 & -1 & 2 \\\\\n",
       "-1 & 1 & -1\n",
       "\\end{array}\\right) \\verb|B=| \\left(\\begin{array}{r}\n",
       "4 \\\\\n",
       "6 \\\\\n",
       "7 \\\\\n",
       "9\n",
       "\\end{array}\\right)$$"
      ],
      "text/plain": [
       "'A= ' [ 2 -1  1]\n",
       "[ 3 -1  1]\n",
       "[ 4 -1  2]\n",
       "[-1  1 -1] 'B= ' [4]\n",
       "[6]\n",
       "[7]\n",
       "[9]"
      ]
     },
     "metadata": {},
     "output_type": "display_data"
    }
   ],
   "source": [
    "A=matrix(4,3,[2,-1,1,3,-1,1,4,-1,2,-1,1,-1])\n",
    "\n",
    "B=vector([4,6,7,9])\n",
    "show('A= ', A , 'B= ', B.column())"
   ]
  },
  {
   "cell_type": "code",
   "execution_count": 25,
   "metadata": {},
   "outputs": [
    {
     "data": {
      "text/html": [
       "<html><script type=\"math/tex; mode=display\">\\newcommand{\\Bold}[1]{\\mathbf{#1}}\\verb|C=| \\left(\\begin{array}{rrrr}\n",
       "2 & -1 & 1 & 4 \\\\\n",
       "3 & -1 & 1 & 6 \\\\\n",
       "4 & -1 & 2 & 7 \\\\\n",
       "-1 & 1 & -1 & 9\n",
       "\\end{array}\\right)</script></html>"
      ],
      "text/latex": [
       "$$\\newcommand{\\Bold}[1]{\\mathbf{#1}}\\verb|C=| \\left(\\begin{array}{rrrr}\n",
       "2 & -1 & 1 & 4 \\\\\n",
       "3 & -1 & 1 & 6 \\\\\n",
       "4 & -1 & 2 & 7 \\\\\n",
       "-1 & 1 & -1 & 9\n",
       "\\end{array}\\right)$$"
      ],
      "text/plain": [
       "'C=' [ 2 -1  1  4]\n",
       "[ 3 -1  1  6]\n",
       "[ 4 -1  2  7]\n",
       "[-1  1 -1  9]"
      ]
     },
     "metadata": {},
     "output_type": "display_data"
    }
   ],
   "source": [
    "C=A.augment(B)\n",
    "show('C=',C)"
   ]
  },
  {
   "cell_type": "code",
   "execution_count": 26,
   "metadata": {},
   "outputs": [
    {
     "data": {
      "text/plain": [
       "False"
      ]
     },
     "execution_count": 26,
     "metadata": {},
     "output_type": "execute_result"
    }
   ],
   "source": [
    "rank(A)==rank(C)"
   ]
  },
  {
   "cell_type": "code",
   "execution_count": 27,
   "metadata": {},
   "outputs": [
    {
     "data": {
      "text/html": [
       "<html><script type=\"math/tex; mode=display\">\\newcommand{\\Bold}[1]{\\mathbf{#1}}\\left(\\begin{array}{rrrr}\n",
       "1 & 0 & 0 & 2 \\\\\n",
       "0 & 1 & 0 & 10 \\\\\n",
       "0 & 0 & 1 & 10 \\\\\n",
       "0 & 0 & 0 & 11\n",
       "\\end{array}\\right)</script></html>"
      ],
      "text/latex": [
       "$$\\newcommand{\\Bold}[1]{\\mathbf{#1}}\\left(\\begin{array}{rrrr}\n",
       "1 & 0 & 0 & 2 \\\\\n",
       "0 & 1 & 0 & 10 \\\\\n",
       "0 & 0 & 1 & 10 \\\\\n",
       "0 & 0 & 0 & 11\n",
       "\\end{array}\\right)$$"
      ],
      "text/plain": [
       "[ 1  0  0  2]\n",
       "[ 0  1  0 10]\n",
       "[ 0  0  1 10]\n",
       "[ 0  0  0 11]"
      ]
     },
     "metadata": {},
     "output_type": "display_data"
    }
   ],
   "source": [
    "show(C.echelon_form())"
   ]
  },
  {
   "cell_type": "code",
   "execution_count": 28,
   "metadata": {},
   "outputs": [],
   "source": [
    "U=matrix(3,4,[1,-1,2,4,-3,3,2,1,-1,-2,6,9])"
   ]
  },
  {
   "cell_type": "code",
   "execution_count": 29,
   "metadata": {},
   "outputs": [
    {
     "data": {
      "text/plain": [
       "[1 0 2]\n",
       "[0 1 1]\n",
       "[0 0 3]\n",
       "[0 0 0]"
      ]
     },
     "execution_count": 29,
     "metadata": {},
     "output_type": "execute_result"
    }
   ],
   "source": [
    "U.transpose().echelon_form()"
   ]
  },
  {
   "cell_type": "code",
   "execution_count": 30,
   "metadata": {},
   "outputs": [],
   "source": [
    "U=matrix(3,4,[2,6,0,-11,6,20,-6,0,6,-18,-1,-3])"
   ]
  },
  {
   "cell_type": "code",
   "execution_count": 31,
   "metadata": {},
   "outputs": [
    {
     "data": {
      "text/html": [
       "<html><script type=\"math/tex; mode=display\">\\newcommand{\\Bold}[1]{\\mathbf{#1}}\\left(\\begin{array}{rrr}\n",
       "1 & 0 & 0 \\\\\n",
       "0 & 2 & 0 \\\\\n",
       "0 & 0 & 1 \\\\\n",
       "0 & 0 & 0\n",
       "\\end{array}\\right)</script></html>"
      ],
      "text/latex": [
       "$$\\newcommand{\\Bold}[1]{\\mathbf{#1}}\\left(\\begin{array}{rrr}\n",
       "1 & 0 & 0 \\\\\n",
       "0 & 2 & 0 \\\\\n",
       "0 & 0 & 1 \\\\\n",
       "0 & 0 & 0\n",
       "\\end{array}\\right)$$"
      ],
      "text/plain": [
       "[1 0 0]\n",
       "[0 2 0]\n",
       "[0 0 1]\n",
       "[0 0 0]"
      ]
     },
     "metadata": {},
     "output_type": "display_data"
    }
   ],
   "source": [
    "show(U.transpose().echelon_form())"
   ]
  },
  {
   "cell_type": "markdown",
   "metadata": {},
   "source": [
    "## Exercise Question "
   ]
  },
  {
   "cell_type": "markdown",
   "metadata": {},
   "source": [
    "## Solve the following system of equations\n",
    "## 3x + y + z = 2; x − 3y + 2z = 1; 7x − y + 4z = 5"
   ]
  },
  {
   "cell_type": "code",
   "execution_count": 36,
   "metadata": {},
   "outputs": [
    {
     "data": {
      "text/plain": [
       "[[x == (3/5), y == 0, z == (1/5)]]"
      ]
     },
     "execution_count": 36,
     "metadata": {},
     "output_type": "execute_result"
    }
   ],
   "source": [
    "x, y, z = var('x, y, z')\n",
    "solve([3*x-y+z == 2, x-3*y+2*z == 1,7*x-y+4*z == 5 ], x, y, z)"
   ]
  },
  {
   "cell_type": "markdown",
   "metadata": {},
   "source": [
    "## Let A and B be two matrix then find its determinent ,adjoint,inverse and all minors of order 1,2,3 and also A+B,A-B,AB,A^6"
   ]
  },
  {
   "cell_type": "code",
   "execution_count": 44,
   "metadata": {},
   "outputs": [
    {
     "data": {
      "text/html": [
       "<html><script type=\"math/tex; mode=display\">\\newcommand{\\Bold}[1]{\\mathbf{#1}}\\verb|A|\\phantom{\\verb!x!}\\verb|determinent|\\phantom{\\verb!x!}\\verb|is| 1</script></html>"
      ],
      "text/latex": [
       "$$\\newcommand{\\Bold}[1]{\\mathbf{#1}}\\verb|A|\\phantom{\\verb!x!}\\verb|determinent|\\phantom{\\verb!x!}\\verb|is| 1$$"
      ],
      "text/plain": [
       "'A determinent is ' 1"
      ]
     },
     "metadata": {},
     "output_type": "display_data"
    },
    {
     "data": {
      "text/html": [
       "<html><script type=\"math/tex; mode=display\">\\newcommand{\\Bold}[1]{\\mathbf{#1}}\\verb|B|\\phantom{\\verb!x!}\\verb|determinent|\\phantom{\\verb!x!}\\verb|is| 0</script></html>"
      ],
      "text/latex": [
       "$$\\newcommand{\\Bold}[1]{\\mathbf{#1}}\\verb|B|\\phantom{\\verb!x!}\\verb|determinent|\\phantom{\\verb!x!}\\verb|is| 0$$"
      ],
      "text/plain": [
       "'B determinent is ' 0"
      ]
     },
     "metadata": {},
     "output_type": "display_data"
    },
    {
     "name": "stderr",
     "output_type": "stream",
     "text": [
      "/opt/sagemath-9.3/local/lib/python3.7/site-packages/sage/repl/ipython_kernel/__main__.py:5: DeprecationWarning: adjoint is deprecated. Please use adjugate instead.\n",
      "See http://trac.sagemath.org/10501 for details.\n"
     ]
    },
    {
     "data": {
      "text/html": [
       "<html><script type=\"math/tex; mode=display\">\\newcommand{\\Bold}[1]{\\mathbf{#1}}\\verb|A|\\phantom{\\verb!x!}\\verb|adjoint|\\phantom{\\verb!x!}\\verb|is| \\left(\\begin{array}{rrr}\n",
       "6 & -2 & -3 \\\\\n",
       "-1 & 1 & 0 \\\\\n",
       "-1 & 0 & 1\n",
       "\\end{array}\\right)</script></html>"
      ],
      "text/latex": [
       "$$\\newcommand{\\Bold}[1]{\\mathbf{#1}}\\verb|A|\\phantom{\\verb!x!}\\verb|adjoint|\\phantom{\\verb!x!}\\verb|is| \\left(\\begin{array}{rrr}\n",
       "6 & -2 & -3 \\\\\n",
       "-1 & 1 & 0 \\\\\n",
       "-1 & 0 & 1\n",
       "\\end{array}\\right)$$"
      ],
      "text/plain": [
       "'A adjoint is ' [ 6 -2 -3]\n",
       "[-1  1  0]\n",
       "[-1  0  1]"
      ]
     },
     "metadata": {},
     "output_type": "display_data"
    },
    {
     "name": "stderr",
     "output_type": "stream",
     "text": [
      "/opt/sagemath-9.3/local/lib/python3.7/site-packages/sage/repl/ipython_kernel/__main__.py:6: DeprecationWarning: adjoint is deprecated. Please use adjugate instead.\n",
      "See http://trac.sagemath.org/10501 for details.\n"
     ]
    },
    {
     "data": {
      "text/html": [
       "<html><script type=\"math/tex; mode=display\">\\newcommand{\\Bold}[1]{\\mathbf{#1}}\\verb|B|\\phantom{\\verb!x!}\\verb|adjoint|\\phantom{\\verb!x!}\\verb|is| \\left(\\begin{array}{rrr}\n",
       "-1 & 2 & -1 \\\\\n",
       "1 & -2 & 1 \\\\\n",
       "1 & -2 & 1\n",
       "\\end{array}\\right)</script></html>"
      ],
      "text/latex": [
       "$$\\newcommand{\\Bold}[1]{\\mathbf{#1}}\\verb|B|\\phantom{\\verb!x!}\\verb|adjoint|\\phantom{\\verb!x!}\\verb|is| \\left(\\begin{array}{rrr}\n",
       "-1 & 2 & -1 \\\\\n",
       "1 & -2 & 1 \\\\\n",
       "1 & -2 & 1\n",
       "\\end{array}\\right)$$"
      ],
      "text/plain": [
       "'B adjoint is ' [-1  2 -1]\n",
       "[ 1 -2  1]\n",
       "[ 1 -2  1]"
      ]
     },
     "metadata": {},
     "output_type": "display_data"
    },
    {
     "data": {
      "text/html": [
       "<html><script type=\"math/tex; mode=display\">\\newcommand{\\Bold}[1]{\\mathbf{#1}}\\verb|A|\\phantom{\\verb!x!}\\verb|inverse|\\phantom{\\verb!x!}\\verb|is| \\left(\\begin{array}{rrr}\n",
       "6 & -2 & -3 \\\\\n",
       "-1 & 1 & 0 \\\\\n",
       "-1 & 0 & 1\n",
       "\\end{array}\\right)</script></html>"
      ],
      "text/latex": [
       "$$\\newcommand{\\Bold}[1]{\\mathbf{#1}}\\verb|A|\\phantom{\\verb!x!}\\verb|inverse|\\phantom{\\verb!x!}\\verb|is| \\left(\\begin{array}{rrr}\n",
       "6 & -2 & -3 \\\\\n",
       "-1 & 1 & 0 \\\\\n",
       "-1 & 0 & 1\n",
       "\\end{array}\\right)$$"
      ],
      "text/plain": [
       "'A inverse is ' [ 6 -2 -3]\n",
       "[-1  1  0]\n",
       "[-1  0  1]"
      ]
     },
     "metadata": {},
     "output_type": "display_data"
    },
    {
     "data": {
      "text/html": [
       "<html><script type=\"math/tex; mode=display\">\\newcommand{\\Bold}[1]{\\mathbf{#1}}\\verb|minor|\\phantom{\\verb!x!}\\verb|of|\\phantom{\\verb!x!}\\verb|order|\\phantom{\\verb!x!}\\verb|1|\\phantom{\\verb!x!}\\verb|for|\\phantom{\\verb!x!}\\verb|A|\\phantom{\\verb!x!}\\verb|is| \\left[1, 2, 3, 1, 3, 3, 1, 2, 4\\right]</script></html>"
      ],
      "text/latex": [
       "$$\\newcommand{\\Bold}[1]{\\mathbf{#1}}\\verb|minor|\\phantom{\\verb!x!}\\verb|of|\\phantom{\\verb!x!}\\verb|order|\\phantom{\\verb!x!}\\verb|1|\\phantom{\\verb!x!}\\verb|for|\\phantom{\\verb!x!}\\verb|A|\\phantom{\\verb!x!}\\verb|is| \\left[1, 2, 3, 1, 3, 3, 1, 2, 4\\right]$$"
      ],
      "text/plain": [
       "'minor of order 1 for A is ' [1, 2, 3, 1, 3, 3, 1, 2, 4]"
      ]
     },
     "metadata": {},
     "output_type": "display_data"
    },
    {
     "data": {
      "text/html": [
       "<html><script type=\"math/tex; mode=display\">\\newcommand{\\Bold}[1]{\\mathbf{#1}}\\verb|minor|\\phantom{\\verb!x!}\\verb|of|\\phantom{\\verb!x!}\\verb|order|\\phantom{\\verb!x!}\\verb|1|\\phantom{\\verb!x!}\\verb|for|\\phantom{\\verb!x!}\\verb|B|\\phantom{\\verb!x!}\\verb|is| \\left[5, 2, 3, 7, 3, 4, 9, 4, 5\\right]</script></html>"
      ],
      "text/latex": [
       "$$\\newcommand{\\Bold}[1]{\\mathbf{#1}}\\verb|minor|\\phantom{\\verb!x!}\\verb|of|\\phantom{\\verb!x!}\\verb|order|\\phantom{\\verb!x!}\\verb|1|\\phantom{\\verb!x!}\\verb|for|\\phantom{\\verb!x!}\\verb|B|\\phantom{\\verb!x!}\\verb|is| \\left[5, 2, 3, 7, 3, 4, 9, 4, 5\\right]$$"
      ],
      "text/plain": [
       "'minor of order 1 for B is ' [5, 2, 3, 7, 3, 4, 9, 4, 5]"
      ]
     },
     "metadata": {},
     "output_type": "display_data"
    },
    {
     "data": {
      "text/html": [
       "<html><script type=\"math/tex; mode=display\">\\newcommand{\\Bold}[1]{\\mathbf{#1}}\\verb|minor|\\phantom{\\verb!x!}\\verb|of|\\phantom{\\verb!x!}\\verb|order|\\phantom{\\verb!x!}\\verb|2|\\phantom{\\verb!x!}\\verb|for|\\phantom{\\verb!x!}\\verb|A|\\phantom{\\verb!x!}\\verb|is| \\left[1, 0, -3, 0, 1, 2, -1, 1, 6\\right]</script></html>"
      ],
      "text/latex": [
       "$$\\newcommand{\\Bold}[1]{\\mathbf{#1}}\\verb|minor|\\phantom{\\verb!x!}\\verb|of|\\phantom{\\verb!x!}\\verb|order|\\phantom{\\verb!x!}\\verb|2|\\phantom{\\verb!x!}\\verb|for|\\phantom{\\verb!x!}\\verb|A|\\phantom{\\verb!x!}\\verb|is| \\left[1, 0, -3, 0, 1, 2, -1, 1, 6\\right]$$"
      ],
      "text/plain": [
       "'minor of order 2 for A is ' [1, 0, -3, 0, 1, 2, -1, 1, 6]"
      ]
     },
     "metadata": {},
     "output_type": "display_data"
    },
    {
     "data": {
      "text/html": [
       "<html><script type=\"math/tex; mode=display\">\\newcommand{\\Bold}[1]{\\mathbf{#1}}\\verb|minor|\\phantom{\\verb!x!}\\verb|of|\\phantom{\\verb!x!}\\verb|order|\\phantom{\\verb!x!}\\verb|2|\\phantom{\\verb!x!}\\verb|for|\\phantom{\\verb!x!}\\verb|B|\\phantom{\\verb!x!}\\verb|is| \\left[1, -1, -1, 2, -2, -2, 1, -1, -1\\right]</script></html>"
      ],
      "text/latex": [
       "$$\\newcommand{\\Bold}[1]{\\mathbf{#1}}\\verb|minor|\\phantom{\\verb!x!}\\verb|of|\\phantom{\\verb!x!}\\verb|order|\\phantom{\\verb!x!}\\verb|2|\\phantom{\\verb!x!}\\verb|for|\\phantom{\\verb!x!}\\verb|B|\\phantom{\\verb!x!}\\verb|is| \\left[1, -1, -1, 2, -2, -2, 1, -1, -1\\right]$$"
      ],
      "text/plain": [
       "'minor of order 2 for B is ' [1, -1, -1, 2, -2, -2, 1, -1, -1]"
      ]
     },
     "metadata": {},
     "output_type": "display_data"
    },
    {
     "data": {
      "text/html": [
       "<html><script type=\"math/tex; mode=display\">\\newcommand{\\Bold}[1]{\\mathbf{#1}}\\verb|minor|\\phantom{\\verb!x!}\\verb|of|\\phantom{\\verb!x!}\\verb|order|\\phantom{\\verb!x!}\\verb|3|\\phantom{\\verb!x!}\\verb|for|\\phantom{\\verb!x!}\\verb|A|\\phantom{\\verb!x!}\\verb|is| \\left[1\\right]</script></html>"
      ],
      "text/latex": [
       "$$\\newcommand{\\Bold}[1]{\\mathbf{#1}}\\verb|minor|\\phantom{\\verb!x!}\\verb|of|\\phantom{\\verb!x!}\\verb|order|\\phantom{\\verb!x!}\\verb|3|\\phantom{\\verb!x!}\\verb|for|\\phantom{\\verb!x!}\\verb|A|\\phantom{\\verb!x!}\\verb|is| \\left[1\\right]$$"
      ],
      "text/plain": [
       "'minor of order 3 for A is ' [1]"
      ]
     },
     "metadata": {},
     "output_type": "display_data"
    },
    {
     "data": {
      "text/html": [
       "<html><script type=\"math/tex; mode=display\">\\newcommand{\\Bold}[1]{\\mathbf{#1}}\\verb|minor|\\phantom{\\verb!x!}\\verb|of|\\phantom{\\verb!x!}\\verb|order|\\phantom{\\verb!x!}\\verb|3|\\phantom{\\verb!x!}\\verb|for|\\phantom{\\verb!x!}\\verb|B|\\phantom{\\verb!x!}\\verb|is| \\left[0\\right]</script></html>"
      ],
      "text/latex": [
       "$$\\newcommand{\\Bold}[1]{\\mathbf{#1}}\\verb|minor|\\phantom{\\verb!x!}\\verb|of|\\phantom{\\verb!x!}\\verb|order|\\phantom{\\verb!x!}\\verb|3|\\phantom{\\verb!x!}\\verb|for|\\phantom{\\verb!x!}\\verb|B|\\phantom{\\verb!x!}\\verb|is| \\left[0\\right]$$"
      ],
      "text/plain": [
       "'minor of order 3 for B is ' [0]"
      ]
     },
     "metadata": {},
     "output_type": "display_data"
    }
   ],
   "source": [
    "A=matrix(3,3,[1,2,3,1,3,3,1,2,4])\n",
    "B=matrix(3,3,[5,2,3,7,3,4,9,4,5])\n",
    "show('A determinent is ',A.det())\n",
    "show('B determinent is ',B.det())\n",
    "show('A adjoint is ',A.adjoint())\n",
    "show('B adjoint is ',B.adjoint())\n",
    "show('A inverse is ',A.inverse())\n",
    "show('minor of order 1 for A is ',A.minors(1))\n",
    "show('minor of order 1 for B is ',B.minors(1))\n",
    "show('minor of order 2 for A is ',A.minors(2))\n",
    "show('minor of order 2 for B is ',B.minors(2))\n",
    "show('minor of order 3 for A is ',A.minors(3))\n",
    "show('minor of order 3 for B is ',B.minors(3))"
   ]
  },
  {
   "cell_type": "code",
   "execution_count": 40,
   "metadata": {},
   "outputs": [
    {
     "data": {
      "text/html": [
       "<html><script type=\"math/tex; mode=display\">\\newcommand{\\Bold}[1]{\\mathbf{#1}}\\verb|A+B=| \\left(\\begin{array}{rrr}\n",
       "6 & 4 & 6 \\\\\n",
       "8 & 6 & 7 \\\\\n",
       "10 & 6 & 9\n",
       "\\end{array}\\right)</script></html>"
      ],
      "text/latex": [
       "$$\\newcommand{\\Bold}[1]{\\mathbf{#1}}\\verb|A+B=| \\left(\\begin{array}{rrr}\n",
       "6 & 4 & 6 \\\\\n",
       "8 & 6 & 7 \\\\\n",
       "10 & 6 & 9\n",
       "\\end{array}\\right)$$"
      ],
      "text/plain": [
       "'A+B=' [ 6  4  6]\n",
       "[ 8  6  7]\n",
       "[10  6  9]"
      ]
     },
     "metadata": {},
     "output_type": "display_data"
    },
    {
     "data": {
      "text/html": [
       "<html><script type=\"math/tex; mode=display\">\\newcommand{\\Bold}[1]{\\mathbf{#1}}\\verb|A-B=| \\left(\\begin{array}{rrr}\n",
       "-4 & 0 & 0 \\\\\n",
       "-6 & 0 & -1 \\\\\n",
       "-8 & -2 & -1\n",
       "\\end{array}\\right)</script></html>"
      ],
      "text/latex": [
       "$$\\newcommand{\\Bold}[1]{\\mathbf{#1}}\\verb|A-B=| \\left(\\begin{array}{rrr}\n",
       "-4 & 0 & 0 \\\\\n",
       "-6 & 0 & -1 \\\\\n",
       "-8 & -2 & -1\n",
       "\\end{array}\\right)$$"
      ],
      "text/plain": [
       "'A-B=' [-4  0  0]\n",
       "[-6  0 -1]\n",
       "[-8 -2 -1]"
      ]
     },
     "metadata": {},
     "output_type": "display_data"
    },
    {
     "data": {
      "text/html": [
       "<html><script type=\"math/tex; mode=display\">\\newcommand{\\Bold}[1]{\\mathbf{#1}}\\verb|A|\\phantom{\\verb!x!}\\verb|B=| \\left(\\begin{array}{rrr}\n",
       "18 & 25 & 32 \\\\\n",
       "20 & 28 & 36 \\\\\n",
       "21 & 29 & 37\n",
       "\\end{array}\\right)</script></html>"
      ],
      "text/latex": [
       "$$\\newcommand{\\Bold}[1]{\\mathbf{#1}}\\verb|A|\\phantom{\\verb!x!}\\verb|B=| \\left(\\begin{array}{rrr}\n",
       "18 & 25 & 32 \\\\\n",
       "20 & 28 & 36 \\\\\n",
       "21 & 29 & 37\n",
       "\\end{array}\\right)$$"
      ],
      "text/plain": [
       "'A B=' [18 25 32]\n",
       "[20 28 36]\n",
       "[21 29 37]"
      ]
     },
     "metadata": {},
     "output_type": "display_data"
    }
   ],
   "source": [
    "show('A+B=',A+B)\n",
    "show('A-B=',A-B)\n",
    "show('A B=',A*B.transpose())"
   ]
  },
  {
   "cell_type": "code",
   "execution_count": 46,
   "metadata": {},
   "outputs": [
    {
     "data": {
      "text/plain": [
       "[[x == 3, y == 6, z == 9, t == 9]]"
      ]
     },
     "execution_count": 46,
     "metadata": {},
     "output_type": "execute_result"
    }
   ],
   "source": [
    "x, y, z ,t = var('x, y, z ,t')\n",
    "solve([2*x+3==9,2*z-3==15,2*y==12,2*t==18],x,y,z,t)"
   ]
  }
 ],
 "metadata": {
  "kernelspec": {
   "display_name": "SageMath 9.3",
   "language": "sage",
   "name": "sagemath"
  },
  "language_info": {
   "codemirror_mode": {
    "name": "ipython",
    "version": 3
   },
   "file_extension": ".py",
   "mimetype": "text/x-python",
   "name": "python",
   "nbconvert_exporter": "python",
   "pygments_lexer": "ipython3",
   "version": "3.7.10"
  }
 },
 "nbformat": 4,
 "nbformat_minor": 4
}
